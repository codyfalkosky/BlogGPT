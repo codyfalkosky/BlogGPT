{
 "cells": [
  {
   "cell_type": "code",
   "execution_count": 465,
   "id": "8b909aee-2ed1-4d64-bf7a-c6bc68fbd2a2",
   "metadata": {
    "scrolled": true
   },
   "outputs": [],
   "source": [
    "import json\n",
    "from bs4 import BeautifulSoup\n",
    "from titlecase import titlecase\n",
    "import random\n",
    "import glob\n",
    "import re\n",
    "from unidecode import unidecode\n",
    "import pprint\n",
    "from tqdm.notebook import tqdm"
   ]
  },
  {
   "cell_type": "code",
   "execution_count": 61,
   "id": "85f3203c-f028-445c-bc80-cf7723b170ab",
   "metadata": {},
   "outputs": [],
   "source": [
    "paths = glob.glob('/Users/codyfalkosky/Desktop/1_extracted_blogs/*.json')"
   ]
  },
  {
   "cell_type": "code",
   "execution_count": 1302,
   "id": "bd41e0ec-8bff-485e-9584-d7980f4b1e01",
   "metadata": {},
   "outputs": [],
   "source": [
    "class ArticleParser:\n",
    "    def __init__(self, example):\n",
    "        self._removed_intro = False\n",
    "        self.stop_headings = ['Book Your Trip: Logistical Tips and Tricks', 'Leave A Comment Cancel reply', \"Hi, I'm Matthew Karsten\"]\n",
    "        self.break_headings = ['Like this Post? Pin it!', 'Related Posts', 'Like This Article? Pin it!', 'Related posts']\n",
    "        self.stop_heading_chars = ['\\t']\n",
    "        self.data    = []\n",
    "        self.example = example\n",
    "        self.soup    = BeautifulSoup(example['article'], 'html.parser')\n",
    "        self._get_blog_title()\n",
    "        self._extract_and_clean()\n",
    "\n",
    "    def _get_blog_title(self):\n",
    "        # find title\n",
    "        title = re.findall(r\"/([^/]+)/index.html\", self.example['path']) # case: /path/title/index.html\n",
    "        if not title:\n",
    "            title = re.findall(r\"/([^/]+)$\", self.example['path']) # case: /path/title\n",
    "\n",
    "        # clean\n",
    "        title = title[0]\n",
    "        title = title.replace('-', ' ')\n",
    "        title = title.replace('_', ' ')\n",
    "        title = titlecase(title)\n",
    "\n",
    "        # save\n",
    "        self.title = title\n",
    "\n",
    "    def _assess_heading(self, name, text):\n",
    "        # an after blog tag (the blog is over)\n",
    "        if name == 'aside':\n",
    "            return 'break'\n",
    "\n",
    "        if any([heading in text for heading in self.break_headings]):\n",
    "            return 'break'\n",
    "\n",
    "        # check for blank heading\n",
    "        if not text:\n",
    "            return 'continue'\n",
    "\n",
    "        # check for bad headings (recurring advertisements, comment section)\n",
    "        if text in self.stop_headings:\n",
    "            return 'continue'\n",
    "\n",
    "        # mostly strange comment headings (e.g. \"\\t\\t\\t\\t\\tcomments\\t\\t\\t\\t\\t\")\n",
    "        if any([char in text for char in self.stop_heading_chars]):\n",
    "            return 'continue'\n",
    "\n",
    "        # headings that arent headings, they are paragraphs.\n",
    "        if len(text) > 100:\n",
    "            return 'continue'\n",
    "\n",
    "        return 'good'\n",
    "        \n",
    "        \n",
    "\n",
    "    def _extract_and_clean(self):\n",
    "        'extracts all headings and heading content, cleans, and appends to self.data'\n",
    "\n",
    "        cleaned_headings = []\n",
    "\n",
    "        # find all headings \n",
    "        headings = self.soup.find_all(['h1', 'h2', 'h3', 'h4', 'h5', 'aside']) + ['END']\n",
    "\n",
    "        \n",
    "        for current_heading, next_heading in zip(headings, headings[1:]):\n",
    "\n",
    "            # if the heading is good, use it\n",
    "            match self._assess_heading(current_heading.name, current_heading.text):\n",
    "                case 'break':\n",
    "                    break\n",
    "                case 'continue':\n",
    "                    continue\n",
    "                case 'good':\n",
    "                    pass\n",
    "\n",
    "\n",
    "            # reformat current heading for dataset and save (removes id, class, etc. attrs from tag)\n",
    "            heading = f'''<{current_heading.name}>{unidecode(current_heading.text).strip()}</{current_heading.name}>'''\n",
    "            cleaned_headings.append(heading)\n",
    "\n",
    "            # find the area that is the content for this heading\n",
    "            start = self.example['article'].find(str(current_heading)) + len(str(current_heading))\n",
    "\n",
    "            if next_heading == 'END':\n",
    "                end = None\n",
    "            else:\n",
    "                end = self.example['article'].find(str(next_heading))\n",
    "\n",
    "            # extract content\n",
    "            html = self.example['article'][start:end]\n",
    "            soup = BeautifulSoup(html, 'html.parser')\n",
    "\n",
    "            p_tags = soup.find_all('p')\n",
    "\n",
    "            content = ''\n",
    "\n",
    "            for p_tag in p_tags:\n",
    "                if not p_tag.find_parent('p'):\n",
    "                    content += p_tag.text.strip() + ' '\n",
    "            \n",
    "            # if really long skip`\n",
    "            if len(content) > 5000:\n",
    "                continue\n",
    "        \n",
    "            # clean content\n",
    "            content = unidecode(content)\n",
    "            content = content.replace(' \\n', ' ')\n",
    "            content = content.replace('\\n', ' ')\n",
    "            content = re.sub(r'(?<!\\s)([A-Z])', r' \\1', content) # add a space before a capitol word.\n",
    "            if not self._removed_intro:\n",
    "                len_pre = len(content)\n",
    "                # remove starting line\n",
    "                # content = re.sub(r'Written by .+?, \\d\\d\\d\\d ', '', content) \n",
    "                # content = re.sub(r'Adventurous Kate contains affiliate links. If you make a purchase through these links, I will earn a commission at no extra cost to you. Thanks!\\s+', '', content)\n",
    "                content = re.sub(r'^.+?\\d{1,2}(st|nd|rd|th)?, \\d{4} ', '', content)\n",
    "                content = re.sub(r'^.+?\\d{1,2}(st|nd|rd|th)?, \\d{4} ', '', content)\n",
    "                content = re.sub(r'^\\s*By.+?\\.', '', content)\n",
    "                len_post = len(content)\n",
    "                if len_pre != len_post:\n",
    "                    self._removed_intro = True\n",
    "\n",
    "            content = re.sub(r'\\s*([A-Z]\\s+){5,}.*([A-Z]\\s+){5,}.*', '', content)\n",
    "            content = re.sub(r'\\s*Table of Contents\\s*$', '', content)\n",
    "            content = re.sub(r'\\[.+=\".+\\]', '', content)\n",
    "            content = content.strip()\n",
    "\n",
    "            # if really short skip\n",
    "            if len(content) < 100:\n",
    "                continue\n",
    "            \n",
    "            # check for blank content, then append to article data\n",
    "            if content:\n",
    "                self.data.append({'heading':heading, 'content':content})        \n",
    "\n",
    "        # append title and headings to data\n",
    "        self.data.append({'title':self.title, 'headings':cleaned_headings})\n"
   ]
  },
  {
   "cell_type": "markdown",
   "id": "66493ef7-8f3c-4a2e-8998-791186220481",
   "metadata": {},
   "source": [
    "## Parse Path 0"
   ]
  },
  {
   "cell_type": "code",
   "execution_count": 461,
   "id": "3b5e05bf-8a8f-43f0-9d9e-70fd8115dffb",
   "metadata": {},
   "outputs": [],
   "source": [
    "with open(paths[0], 'r') as file:\n",
    "    data = json.load(file)"
   ]
  },
  {
   "cell_type": "code",
   "execution_count": 478,
   "id": "afd8cd25-eaf3-45ec-9259-581b01127dc5",
   "metadata": {},
   "outputs": [
    {
     "data": {
      "application/vnd.jupyter.widget-view+json": {
       "model_id": "c3be3b25466c42cb839a18a878f12c44",
       "version_major": 2,
       "version_minor": 0
      },
      "text/plain": [
       "  0%|          | 0/511 [00:00<?, ?it/s]"
      ]
     },
     "metadata": {},
     "output_type": "display_data"
    }
   ],
   "source": [
    "cleaned_data = []\n",
    "indexes = range(len(data))\n",
    "\n",
    "for idx in tqdm(indexes):\n",
    "    parser = ArticleParser(data[idx])\n",
    "    if len(parser.data) > 4:\n",
    "        cleaned_data.append(parser.data)"
   ]
  },
  {
   "cell_type": "code",
   "execution_count": 479,
   "id": "fb993dab-810a-47e2-a17f-d97b41be0332",
   "metadata": {},
   "outputs": [
    {
     "data": {
      "text/plain": [
       "208"
      ]
     },
     "execution_count": 479,
     "metadata": {},
     "output_type": "execute_result"
    }
   ],
   "source": [
    "len(cleaned_data)"
   ]
  },
  {
   "cell_type": "code",
   "execution_count": 483,
   "id": "cd35a1dc-db45-4dff-b7da-1322609c3be4",
   "metadata": {},
   "outputs": [],
   "source": [
    "new_path = paths[0].replace('1_extracted_blogs', '2_cleaned_data')\n",
    "with open(new_path, 'w') as file:\n",
    "    json.dump(cleaned_data, file)"
   ]
  },
  {
   "cell_type": "code",
   "execution_count": 482,
   "id": "84a6f7aa-04e1-4f3b-abb9-43a10168bcce",
   "metadata": {},
   "outputs": [
    {
     "data": {
      "text/plain": [
       "'/Users/codyfalkosky/Desktop/2_cleaned_data/www.wanderingearl.com.json'"
      ]
     },
     "execution_count": 482,
     "metadata": {},
     "output_type": "execute_result"
    }
   ],
   "source": [
    "new_path"
   ]
  },
  {
   "cell_type": "markdown",
   "id": "b809d75a-81bc-4171-ba9a-cb511a6044fe",
   "metadata": {},
   "source": [
    "## Parse Path 1"
   ]
  },
  {
   "cell_type": "code",
   "execution_count": 526,
   "id": "74177b1b-fcc9-4d6e-a16c-abb5432abd34",
   "metadata": {},
   "outputs": [],
   "source": [
    "with open(paths[1], 'r') as file:\n",
    "    data = json.load(file)"
   ]
  },
  {
   "cell_type": "code",
   "execution_count": 564,
   "id": "76f6f3e2-7e19-4d30-af29-6c3e1c302167",
   "metadata": {},
   "outputs": [
    {
     "data": {
      "application/vnd.jupyter.widget-view+json": {
       "model_id": "c45aa1e534b74516aebda5dee7358b0c",
       "version_major": 2,
       "version_minor": 0
      },
      "text/plain": [
       "  0%|          | 0/303 [00:00<?, ?it/s]"
      ]
     },
     "metadata": {},
     "output_type": "display_data"
    }
   ],
   "source": [
    "cleaned_data = []\n",
    "indexes = range(len(data))\n",
    "\n",
    "for idx in tqdm(indexes):\n",
    "    parser = ArticleParser(data[idx])\n",
    "    if len(parser.data) > 4:\n",
    "        cleaned_data.append(parser.data)"
   ]
  },
  {
   "cell_type": "code",
   "execution_count": 565,
   "id": "ef8d7a05-e379-4d35-9cf4-655eefa2c351",
   "metadata": {},
   "outputs": [
    {
     "data": {
      "text/plain": [
       "131"
      ]
     },
     "execution_count": 565,
     "metadata": {},
     "output_type": "execute_result"
    }
   ],
   "source": [
    "len(cleaned_data)"
   ]
  },
  {
   "cell_type": "code",
   "execution_count": 566,
   "id": "fe6109f4-6863-4813-aeef-f4d64b2467cf",
   "metadata": {},
   "outputs": [],
   "source": [
    "new_path = paths[1].replace('1_extracted_blogs', '2_cleaned_data')\n",
    "with open(new_path, 'w') as file:\n",
    "    json.dump(cleaned_data, file)"
   ]
  },
  {
   "cell_type": "markdown",
   "id": "08bf6170-76e5-4c59-91e1-90581897dfe1",
   "metadata": {},
   "source": [
    "## Parse Path 2"
   ]
  },
  {
   "cell_type": "code",
   "execution_count": 567,
   "id": "741c4862-9bc9-4f25-8d54-6637b620c487",
   "metadata": {},
   "outputs": [],
   "source": [
    "P = 2"
   ]
  },
  {
   "cell_type": "code",
   "execution_count": 568,
   "id": "c7fc99d9-b8d9-4292-8850-13dec6a53c35",
   "metadata": {},
   "outputs": [],
   "source": [
    "with open(paths[P], 'r') as file:\n",
    "    data = json.load(file)"
   ]
  },
  {
   "cell_type": "code",
   "execution_count": 597,
   "id": "40c10a03-ab88-40e8-88b6-fbc74b7dd676",
   "metadata": {},
   "outputs": [],
   "source": [
    "# random check\n",
    "\n",
    "# idx = random.randint(0, len(data))\n",
    "# parser = ArticleParser(data[idx])\n",
    "\n",
    "# parser.data"
   ]
  },
  {
   "cell_type": "code",
   "execution_count": 598,
   "id": "a153f573-5375-464d-b5a6-87299cf25476",
   "metadata": {},
   "outputs": [
    {
     "data": {
      "application/vnd.jupyter.widget-view+json": {
       "model_id": "4c6b25bfb00c46389bff31727709a99f",
       "version_major": 2,
       "version_minor": 0
      },
      "text/plain": [
       "  0%|          | 0/939 [00:00<?, ?it/s]"
      ]
     },
     "metadata": {},
     "output_type": "display_data"
    }
   ],
   "source": [
    "cleaned_data = []\n",
    "indexes = range(len(data))\n",
    "\n",
    "for idx in tqdm(indexes):\n",
    "    parser = ArticleParser(data[idx])\n",
    "    if len(parser.data) > 4:\n",
    "        cleaned_data.append(parser.data)"
   ]
  },
  {
   "cell_type": "code",
   "execution_count": 599,
   "id": "0035b3df-6b0d-46dc-84f5-ef1eae06e5ff",
   "metadata": {
    "scrolled": true
   },
   "outputs": [
    {
     "data": {
      "text/plain": [
       "628"
      ]
     },
     "execution_count": 599,
     "metadata": {},
     "output_type": "execute_result"
    }
   ],
   "source": [
    "len(cleaned_data)"
   ]
  },
  {
   "cell_type": "code",
   "execution_count": 600,
   "id": "a1d9fe0b-2720-4261-9b06-b05e169ecfdf",
   "metadata": {},
   "outputs": [],
   "source": [
    "new_path = paths[P].replace('1_extracted_blogs', '2_cleaned_data')\n",
    "with open(new_path, 'w') as file:\n",
    "    json.dump(cleaned_data, file)"
   ]
  },
  {
   "cell_type": "markdown",
   "id": "29510974-78a3-44c2-956a-9666a39a9ea3",
   "metadata": {},
   "source": [
    "## Parse Path 3"
   ]
  },
  {
   "cell_type": "code",
   "execution_count": 607,
   "id": "cc6f5f54-6af6-45fd-aa2b-3987a64b8a6b",
   "metadata": {},
   "outputs": [
    {
     "data": {
      "text/plain": [
       "'/Users/codyfalkosky/Desktop/1_extracted_blogs/www.wanderingwelshgirl.com.json'"
      ]
     },
     "execution_count": 607,
     "metadata": {},
     "output_type": "execute_result"
    }
   ],
   "source": [
    "P = 3\n",
    "paths[P]"
   ]
  },
  {
   "cell_type": "code",
   "execution_count": 602,
   "id": "41aa0d09-f7af-4722-87fa-eaec91fc34a5",
   "metadata": {},
   "outputs": [],
   "source": [
    "with open(paths[P], 'r') as file:\n",
    "    data = json.load(file)"
   ]
  },
  {
   "cell_type": "code",
   "execution_count": 611,
   "id": "abdfdb91-57ce-4798-bd75-e0c95ff3cb2f",
   "metadata": {},
   "outputs": [],
   "source": [
    "# random check\n",
    "\n",
    "# idx = random.randint(0, len(data))\n",
    "# parser = ArticleParser(data[idx])\n",
    "\n",
    "# parser.data"
   ]
  },
  {
   "cell_type": "code",
   "execution_count": 612,
   "id": "7e4c8bfb-2d6f-4ef2-a881-096ec7a44c6f",
   "metadata": {},
   "outputs": [
    {
     "data": {
      "application/vnd.jupyter.widget-view+json": {
       "model_id": "c7f18bb125704764b2419ce89e8b9328",
       "version_major": 2,
       "version_minor": 0
      },
      "text/plain": [
       "  0%|          | 0/176 [00:00<?, ?it/s]"
      ]
     },
     "metadata": {},
     "output_type": "display_data"
    }
   ],
   "source": [
    "cleaned_data = []\n",
    "indexes = range(len(data))\n",
    "\n",
    "for idx in tqdm(indexes):\n",
    "    parser = ArticleParser(data[idx])\n",
    "    if len(parser.data) > 4:\n",
    "        cleaned_data.append(parser.data)"
   ]
  },
  {
   "cell_type": "code",
   "execution_count": 613,
   "id": "118c0b52-d9a4-4b2f-abf0-174b02f9c843",
   "metadata": {},
   "outputs": [
    {
     "data": {
      "text/plain": [
       "170"
      ]
     },
     "execution_count": 613,
     "metadata": {},
     "output_type": "execute_result"
    }
   ],
   "source": [
    "len(cleaned_data)"
   ]
  },
  {
   "cell_type": "code",
   "execution_count": 614,
   "id": "9deb53ed-dde2-4cfe-958a-8a049b7346e1",
   "metadata": {},
   "outputs": [
    {
     "name": "stdout",
     "output_type": "stream",
     "text": [
      "/Users/codyfalkosky/Desktop/2_cleaned_data/www.wanderingwelshgirl.com.json\n"
     ]
    }
   ],
   "source": [
    "new_path = paths[P].replace('1_extracted_blogs', '2_cleaned_data')\n",
    "print(new_path)\n",
    "with open(new_path, 'w') as file:\n",
    "    json.dump(cleaned_data, file)"
   ]
  },
  {
   "cell_type": "markdown",
   "id": "121c87c5-d1e9-476f-b5b3-0ec1331e1588",
   "metadata": {
    "jp-MarkdownHeadingCollapsed": true
   },
   "source": [
    "## Parse Path 4"
   ]
  },
  {
   "cell_type": "code",
   "execution_count": 615,
   "id": "2db7b0a6-5f9a-4973-906a-472a14aebe1e",
   "metadata": {},
   "outputs": [
    {
     "data": {
      "text/plain": [
       "'/Users/codyfalkosky/Desktop/1_extracted_blogs/www.alongdustyroads.com.json'"
      ]
     },
     "execution_count": 615,
     "metadata": {},
     "output_type": "execute_result"
    }
   ],
   "source": [
    "P = 4\n",
    "paths[P]"
   ]
  },
  {
   "cell_type": "code",
   "execution_count": 616,
   "id": "8eef48d2-0058-4310-9433-fc6a77cbaa08",
   "metadata": {},
   "outputs": [],
   "source": [
    "with open(paths[P], 'r') as file:\n",
    "    data = json.load(file)"
   ]
  },
  {
   "cell_type": "code",
   "execution_count": 635,
   "id": "8de7e2d8-3980-46b8-8967-a666475268ab",
   "metadata": {},
   "outputs": [],
   "source": [
    "# random check\n",
    "\n",
    "# idx = random.randint(0, len(data))\n",
    "# parser = ArticleParser(data[idx])\n",
    "\n",
    "# parser.data"
   ]
  },
  {
   "cell_type": "code",
   "execution_count": 636,
   "id": "1fd7ebaf-8e6c-4362-9070-15796ed6d91b",
   "metadata": {},
   "outputs": [
    {
     "data": {
      "application/vnd.jupyter.widget-view+json": {
       "model_id": "b0c26f19c8de490eb4e712295bd85007",
       "version_major": 2,
       "version_minor": 0
      },
      "text/plain": [
       "  0%|          | 0/270 [00:00<?, ?it/s]"
      ]
     },
     "metadata": {},
     "output_type": "display_data"
    }
   ],
   "source": [
    "cleaned_data = []\n",
    "indexes = range(len(data))\n",
    "\n",
    "for idx in tqdm(indexes):\n",
    "    parser = ArticleParser(data[idx])\n",
    "    if len(parser.data) > 4:\n",
    "        cleaned_data.append(parser.data)"
   ]
  },
  {
   "cell_type": "code",
   "execution_count": 637,
   "id": "05073c68-dd7e-4ff7-ac58-5b6ebb2129ef",
   "metadata": {},
   "outputs": [
    {
     "data": {
      "text/plain": [
       "256"
      ]
     },
     "execution_count": 637,
     "metadata": {},
     "output_type": "execute_result"
    }
   ],
   "source": [
    "len(cleaned_data)"
   ]
  },
  {
   "cell_type": "code",
   "execution_count": 638,
   "id": "cf8d437d-2d59-4f5d-a403-57d1998800eb",
   "metadata": {},
   "outputs": [
    {
     "name": "stdout",
     "output_type": "stream",
     "text": [
      "/Users/codyfalkosky/Desktop/2_cleaned_data/www.alongdustyroads.com.json\n"
     ]
    }
   ],
   "source": [
    "new_path = paths[P].replace('1_extracted_blogs', '2_cleaned_data')\n",
    "print(new_path)\n",
    "with open(new_path, 'w') as file:\n",
    "    json.dump(cleaned_data, file)"
   ]
  },
  {
   "cell_type": "markdown",
   "id": "09c782f2-9c5b-4bf4-894a-de19ee6a2fea",
   "metadata": {},
   "source": [
    "## Parse Path 5"
   ]
  },
  {
   "cell_type": "code",
   "execution_count": 640,
   "id": "7db1e62b-6db3-4d63-94f4-9fcd3876ca4a",
   "metadata": {},
   "outputs": [
    {
     "data": {
      "text/plain": [
       "'/Users/codyfalkosky/Desktop/1_extracted_blogs/www.theviennablog.com.json'"
      ]
     },
     "execution_count": 640,
     "metadata": {},
     "output_type": "execute_result"
    }
   ],
   "source": [
    "P = 5\n",
    "paths[P]"
   ]
  },
  {
   "cell_type": "code",
   "execution_count": 680,
   "id": "01fc6da2-0e8a-4e92-afbc-9bdd4d4db638",
   "metadata": {},
   "outputs": [],
   "source": [
    "with open(paths[P], 'r') as file:\n",
    "    data = json.load(file)"
   ]
  },
  {
   "cell_type": "code",
   "execution_count": 701,
   "id": "a98c524f-a684-4e57-8b88-2603e0368f8c",
   "metadata": {},
   "outputs": [],
   "source": [
    "# # random check\n",
    "\n",
    "# idx = random.randint(0, len(data))\n",
    "# parser = ArticleParser(data[idx])\n",
    "\n",
    "# parser.data"
   ]
  },
  {
   "cell_type": "code",
   "execution_count": 702,
   "id": "4e3f4832-ba02-419b-9790-b0d5b92d0265",
   "metadata": {},
   "outputs": [
    {
     "data": {
      "application/vnd.jupyter.widget-view+json": {
       "model_id": "62bdbb6c611f4229b578e85cfdb420d0",
       "version_major": 2,
       "version_minor": 0
      },
      "text/plain": [
       "  0%|          | 0/732 [00:00<?, ?it/s]"
      ]
     },
     "metadata": {},
     "output_type": "display_data"
    }
   ],
   "source": [
    "cleaned_data = []\n",
    "indexes = range(len(data))\n",
    "\n",
    "for idx in tqdm(indexes):\n",
    "    parser = ArticleParser(data[idx])\n",
    "    if len(parser.data) > 4:\n",
    "        cleaned_data.append(parser.data)"
   ]
  },
  {
   "cell_type": "code",
   "execution_count": 703,
   "id": "68627d2e-7624-4cca-8770-c38a3b7be3a0",
   "metadata": {},
   "outputs": [
    {
     "data": {
      "text/plain": [
       "623"
      ]
     },
     "execution_count": 703,
     "metadata": {},
     "output_type": "execute_result"
    }
   ],
   "source": [
    "len(cleaned_data)"
   ]
  },
  {
   "cell_type": "code",
   "execution_count": 704,
   "id": "87b5a5ed-2ff8-4596-a713-4ccefb381426",
   "metadata": {},
   "outputs": [
    {
     "name": "stdout",
     "output_type": "stream",
     "text": [
      "/Users/codyfalkosky/Desktop/2_cleaned_data/www.theviennablog.com.json\n"
     ]
    }
   ],
   "source": [
    "new_path = paths[P].replace('1_extracted_blogs', '2_cleaned_data')\n",
    "print(new_path)\n",
    "with open(new_path, 'w') as file:\n",
    "    json.dump(cleaned_data, file)"
   ]
  },
  {
   "cell_type": "markdown",
   "id": "97c4046b-18a6-4660-93af-fe7def67c035",
   "metadata": {},
   "source": [
    "## Parse Path 6"
   ]
  },
  {
   "cell_type": "code",
   "execution_count": 705,
   "id": "f0c9b3d3-70f0-44a8-beca-34ba461d9bf8",
   "metadata": {},
   "outputs": [
    {
     "data": {
      "text/plain": [
       "'/Users/codyfalkosky/Desktop/1_extracted_blogs/www.adventuresnsunsets.com.json'"
      ]
     },
     "execution_count": 705,
     "metadata": {},
     "output_type": "execute_result"
    }
   ],
   "source": [
    "P = 6\n",
    "paths[P]"
   ]
  },
  {
   "cell_type": "code",
   "execution_count": 706,
   "id": "5fbaf57a-0d8e-4c3a-aee2-ff9969e39ec3",
   "metadata": {},
   "outputs": [],
   "source": [
    "with open(paths[P], 'r') as file:\n",
    "    data = json.load(file)"
   ]
  },
  {
   "cell_type": "code",
   "execution_count": 720,
   "id": "c182d709-d2e4-4eaa-95e2-5f295691226e",
   "metadata": {},
   "outputs": [],
   "source": [
    "# random check\n",
    "\n",
    "# idx = random.randint(0, len(data))\n",
    "# parser = ArticleParser(data[idx])\n",
    "\n",
    "# parser.data"
   ]
  },
  {
   "cell_type": "code",
   "execution_count": 721,
   "id": "9184c62f-7c97-4bc2-a59f-b0af301eefec",
   "metadata": {},
   "outputs": [
    {
     "data": {
      "application/vnd.jupyter.widget-view+json": {
       "model_id": "fb439a9920c542f3b103667e1d13ba85",
       "version_major": 2,
       "version_minor": 0
      },
      "text/plain": [
       "  0%|          | 0/507 [00:00<?, ?it/s]"
      ]
     },
     "metadata": {},
     "output_type": "display_data"
    }
   ],
   "source": [
    "cleaned_data = []\n",
    "indexes = range(len(data))\n",
    "\n",
    "for idx in tqdm(indexes):\n",
    "    parser = ArticleParser(data[idx])\n",
    "    if len(parser.data) > 4:\n",
    "        cleaned_data.append(parser.data)"
   ]
  },
  {
   "cell_type": "code",
   "execution_count": 722,
   "id": "d47ca00d-049e-4435-885e-046c51c753b6",
   "metadata": {},
   "outputs": [
    {
     "data": {
      "text/plain": [
       "469"
      ]
     },
     "execution_count": 722,
     "metadata": {},
     "output_type": "execute_result"
    }
   ],
   "source": [
    "len(cleaned_data)"
   ]
  },
  {
   "cell_type": "code",
   "execution_count": 723,
   "id": "60fb83a2-ff20-4a1a-a5c4-313513690403",
   "metadata": {},
   "outputs": [
    {
     "name": "stdout",
     "output_type": "stream",
     "text": [
      "/Users/codyfalkosky/Desktop/2_cleaned_data/www.adventuresnsunsets.com.json\n"
     ]
    }
   ],
   "source": [
    "new_path = paths[P].replace('1_extracted_blogs', '2_cleaned_data')\n",
    "print(new_path)\n",
    "with open(new_path, 'w') as file:\n",
    "    json.dump(cleaned_data, file)"
   ]
  },
  {
   "cell_type": "markdown",
   "id": "8417f1bb-a2a0-4a18-8b01-f67a437b4140",
   "metadata": {},
   "source": [
    "## Parse Path 7"
   ]
  },
  {
   "cell_type": "code",
   "execution_count": 724,
   "id": "080d734e-78c9-49cc-9ace-7a77158103cd",
   "metadata": {},
   "outputs": [
    {
     "data": {
      "text/plain": [
       "'/Users/codyfalkosky/Desktop/1_extracted_blogs/ordinarytraveler.com.json'"
      ]
     },
     "execution_count": 724,
     "metadata": {},
     "output_type": "execute_result"
    }
   ],
   "source": [
    "P = 7\n",
    "paths[P]"
   ]
  },
  {
   "cell_type": "code",
   "execution_count": 725,
   "id": "8f20e38e-4b51-4adf-bf29-8bd686916b81",
   "metadata": {},
   "outputs": [],
   "source": [
    "with open(paths[P], 'r') as file:\n",
    "    data = json.load(file)"
   ]
  },
  {
   "cell_type": "code",
   "execution_count": 746,
   "id": "0b0d5cf0-5cf9-4acb-bc70-78e4d0b9058e",
   "metadata": {},
   "outputs": [],
   "source": [
    "# random check\n",
    "\n",
    "# idx = random.randint(0, len(data))\n",
    "# parser = ArticleParser(data[idx])\n",
    "\n",
    "# parser.data"
   ]
  },
  {
   "cell_type": "code",
   "execution_count": 747,
   "id": "b92d962a-41a5-4a31-9fba-adf723f7ae4f",
   "metadata": {},
   "outputs": [
    {
     "data": {
      "application/vnd.jupyter.widget-view+json": {
       "model_id": "3c89f92f7cb240e198756762f111f66d",
       "version_major": 2,
       "version_minor": 0
      },
      "text/plain": [
       "  0%|          | 0/532 [00:00<?, ?it/s]"
      ]
     },
     "metadata": {},
     "output_type": "display_data"
    }
   ],
   "source": [
    "cleaned_data = []\n",
    "indexes = range(len(data))\n",
    "\n",
    "for idx in tqdm(indexes):\n",
    "    parser = ArticleParser(data[idx])\n",
    "    if len(parser.data) > 4:\n",
    "        cleaned_data.append(parser.data)"
   ]
  },
  {
   "cell_type": "code",
   "execution_count": 748,
   "id": "194bd53e-1139-4cc1-87da-d17b282669c4",
   "metadata": {},
   "outputs": [
    {
     "data": {
      "text/plain": [
       "461"
      ]
     },
     "execution_count": 748,
     "metadata": {},
     "output_type": "execute_result"
    }
   ],
   "source": [
    "len(cleaned_data)"
   ]
  },
  {
   "cell_type": "code",
   "execution_count": 749,
   "id": "d5634904-f1c7-4322-9be7-1d4da0cdcc0f",
   "metadata": {},
   "outputs": [
    {
     "name": "stdout",
     "output_type": "stream",
     "text": [
      "/Users/codyfalkosky/Desktop/2_cleaned_data/ordinarytraveler.com.json\n"
     ]
    }
   ],
   "source": [
    "new_path = paths[P].replace('1_extracted_blogs', '2_cleaned_data')\n",
    "print(new_path)\n",
    "with open(new_path, 'w') as file:\n",
    "    json.dump(cleaned_data, file)"
   ]
  },
  {
   "cell_type": "markdown",
   "id": "4f6a098b-6ec2-447b-bfc7-000150e1faf0",
   "metadata": {
    "jp-MarkdownHeadingCollapsed": true
   },
   "source": [
    "## Parse Path 8"
   ]
  },
  {
   "cell_type": "code",
   "execution_count": 750,
   "id": "12422efe-156b-44cb-9530-68d55c37a3e4",
   "metadata": {},
   "outputs": [
    {
     "data": {
      "text/plain": [
       "'/Users/codyfalkosky/Desktop/1_extracted_blogs/www.thebrokebackpacker.com.json'"
      ]
     },
     "execution_count": 750,
     "metadata": {},
     "output_type": "execute_result"
    }
   ],
   "source": [
    "P = 8\n",
    "paths[P]"
   ]
  },
  {
   "cell_type": "code",
   "execution_count": 751,
   "id": "cc9cb0cb-1333-4c9d-81b8-0707e864d566",
   "metadata": {},
   "outputs": [],
   "source": [
    "with open(paths[P], 'r') as file:\n",
    "    data = json.load(file)"
   ]
  },
  {
   "cell_type": "code",
   "execution_count": 759,
   "id": "fb2f2287-0dd4-4daf-8737-76d270105811",
   "metadata": {},
   "outputs": [],
   "source": [
    "# random check\n",
    "\n",
    "# idx = random.randint(0, len(data))\n",
    "# parser = ArticleParser(data[idx])\n",
    "\n",
    "# parser.data"
   ]
  },
  {
   "cell_type": "code",
   "execution_count": 760,
   "id": "c5584deb-ec08-4028-a083-c1b5c0dc958f",
   "metadata": {},
   "outputs": [
    {
     "data": {
      "application/vnd.jupyter.widget-view+json": {
       "model_id": "d132b66e857a4213bd7f4d105c650ede",
       "version_major": 2,
       "version_minor": 0
      },
      "text/plain": [
       "  0%|          | 0/4219 [00:00<?, ?it/s]"
      ]
     },
     "metadata": {},
     "output_type": "display_data"
    }
   ],
   "source": [
    "cleaned_data = []\n",
    "indexes = range(len(data))\n",
    "\n",
    "for idx in tqdm(indexes):\n",
    "    parser = ArticleParser(data[idx])\n",
    "    if len(parser.data) > 4:\n",
    "        cleaned_data.append(parser.data)"
   ]
  },
  {
   "cell_type": "code",
   "execution_count": 761,
   "id": "d3abb23d-9c57-47b8-87fb-d7b87f0bfec0",
   "metadata": {},
   "outputs": [
    {
     "data": {
      "text/plain": [
       "4196"
      ]
     },
     "execution_count": 761,
     "metadata": {},
     "output_type": "execute_result"
    }
   ],
   "source": [
    "len(cleaned_data)"
   ]
  },
  {
   "cell_type": "code",
   "execution_count": 762,
   "id": "254b48e5-bc34-45c4-840c-e59eeeb99e03",
   "metadata": {},
   "outputs": [
    {
     "name": "stdout",
     "output_type": "stream",
     "text": [
      "/Users/codyfalkosky/Desktop/2_cleaned_data/www.thebrokebackpacker.com.json\n"
     ]
    }
   ],
   "source": [
    "new_path = paths[P].replace('1_extracted_blogs', '2_cleaned_data')\n",
    "print(new_path)\n",
    "with open(new_path, 'w') as file:\n",
    "    json.dump(cleaned_data, file)"
   ]
  },
  {
   "cell_type": "markdown",
   "id": "16c456bc-4264-4e48-aa71-b5182dec7b9c",
   "metadata": {
    "jp-MarkdownHeadingCollapsed": true
   },
   "source": [
    "## Parse Path 9 - REVISIT"
   ]
  },
  {
   "cell_type": "code",
   "execution_count": 763,
   "id": "01323254-7d44-4ff5-af4e-e870a9254f5d",
   "metadata": {},
   "outputs": [
    {
     "data": {
      "text/plain": [
       "'/Users/codyfalkosky/Desktop/1_extracted_blogs/www.alexinwanderland.com.json'"
      ]
     },
     "execution_count": 763,
     "metadata": {},
     "output_type": "execute_result"
    }
   ],
   "source": [
    "P = 9\n",
    "paths[P]"
   ]
  },
  {
   "cell_type": "code",
   "execution_count": 764,
   "id": "ec4c0054-a120-4119-918e-aa3cf01eaecf",
   "metadata": {},
   "outputs": [],
   "source": [
    "with open(paths[P], 'r') as file:\n",
    "    data = json.load(file)"
   ]
  },
  {
   "cell_type": "code",
   "execution_count": 771,
   "id": "02ada383-3653-44e4-9c42-bd978b213049",
   "metadata": {},
   "outputs": [
    {
     "data": {
      "text/plain": [
       "[{'heading': '<h1>Photo of the Week 230: Koh Tao</h1>',\n",
       "  'content': \"Greetings from Koh Tao... and twenty-six! I do want to thank you for a lovely outpouring of birthday wishes and responses to my big birthday post. Unfortunately, the year has gotten off to a bit of a rough start. For the second time in as many weeks, I opened my laptop to a black screen. While the first issue lost me a day of work and a heavy chunk of change, it was fixable and I brought my laptop back home the same night. This time, no such luck -- my screen went kaput, a fairly simple under-warranty fix back in New York, and a borderline nightmare here on a remote island in Thailand. I literally priced out some flights back to the U S yesterday, where this problem would be fixed with a few hours at an Apple store. Instead, I'm staying put and my computer is on its way to Bangkok, slated to return in three weeks. Fingers crossed the screen will be repaired and the entire machine won't be replaced, or I'll end up with a Thai language keyboard -- which, frankly, I didn't pay thousands of dollars for when I bought a top-of-the-line machine. In the meantime, I'm using a friend's laptop -- an extremely generous loan that I'm forever grateful for -- but because of the differences between our operating systems and other boring technical blah blah, many of my programs don't work and much of my day-to-day tasks are going to take infinitely longer to complete. So far I've lost three full working days and quite the fistful of baht on this disaster, and I can't say I'm looking forward to the three weeks of exasperation ahead. Considering one of the main reasons I am here is to catch up on work and replenish my savings, it's a fairly frustrating setback. But. I am reminding myself that this is the paradise tax -- the price we pay in occasional frustrations for getting to live on a gorgeous, inspiring and magnetic island. It might not be the best place to have a technology malfunction, but it is a pretty darn good place to go paddleboarding, laugh with friends, take hikes, and try a rainbow array of cheap and cheerful fruit shakes. And on that note, a few happy photos from this past week.\"},\n",
       " {'heading': '<h3>Photo B</h3>',\n",
       "  'content': 'I actually took this photo the week before last -- in sunnier times! -- but forgot about it until I dumped my memory card today'},\n",
       " {'heading': '<h3>Photo C</h3>',\n",
       "  'content': \"Stopping to smell the flowers and the coffee at Coconut Monkey, a friend's new cafe Which photo is your favorite?\"},\n",
       " {'title': 'Photo of the Week 300 Koh Tao',\n",
       "  'headings': ['<h1>Photo of the Week 230: Koh Tao</h1>',\n",
       "   '<h3>Photo A</h3>',\n",
       "   '<h3>Photo B</h3>',\n",
       "   '<h3>Photo C</h3>',\n",
       "   '<h2>What $300 in Rent Buys You on Koh Tao</h2>',\n",
       "   '<h2>The Great Escape: Month 57 Roundup</h2>',\n",
       "   '<h2>Returning to Asia</h2>']}]"
      ]
     },
     "execution_count": 771,
     "metadata": {},
     "output_type": "execute_result"
    }
   ],
   "source": [
    "# random check\n",
    "\n",
    "idx = random.randint(0, len(data))\n",
    "parser = ArticleParser(data[idx])\n",
    "\n",
    "parser.data"
   ]
  },
  {
   "cell_type": "code",
   "execution_count": 760,
   "id": "71ee7acc-68ba-4eda-9299-10452653d206",
   "metadata": {},
   "outputs": [
    {
     "data": {
      "application/vnd.jupyter.widget-view+json": {
       "model_id": "d132b66e857a4213bd7f4d105c650ede",
       "version_major": 2,
       "version_minor": 0
      },
      "text/plain": [
       "  0%|          | 0/4219 [00:00<?, ?it/s]"
      ]
     },
     "metadata": {},
     "output_type": "display_data"
    }
   ],
   "source": [
    "cleaned_data = []\n",
    "indexes = range(len(data))\n",
    "\n",
    "for idx in tqdm(indexes):\n",
    "    parser = ArticleParser(data[idx])\n",
    "    if len(parser.data) > 4:\n",
    "        cleaned_data.append(parser.data)"
   ]
  },
  {
   "cell_type": "code",
   "execution_count": 761,
   "id": "833730ed-6ba4-40b5-9b12-44a247fb3e83",
   "metadata": {},
   "outputs": [
    {
     "data": {
      "text/plain": [
       "4196"
      ]
     },
     "execution_count": 761,
     "metadata": {},
     "output_type": "execute_result"
    }
   ],
   "source": [
    "len(cleaned_data)"
   ]
  },
  {
   "cell_type": "code",
   "execution_count": 762,
   "id": "88033e5e-4f25-4a26-a305-b9b4e792000d",
   "metadata": {},
   "outputs": [
    {
     "name": "stdout",
     "output_type": "stream",
     "text": [
      "/Users/codyfalkosky/Desktop/2_cleaned_data/www.thebrokebackpacker.com.json\n"
     ]
    }
   ],
   "source": [
    "new_path = paths[P].replace('1_extracted_blogs', '2_cleaned_data')\n",
    "print(new_path)\n",
    "with open(new_path, 'w') as file:\n",
    "    json.dump(cleaned_data, file)"
   ]
  },
  {
   "cell_type": "markdown",
   "id": "721451e5-51ca-42c9-b428-05e1ff2305db",
   "metadata": {
    "jp-MarkdownHeadingCollapsed": true
   },
   "source": [
    "## Parse Path 10"
   ]
  },
  {
   "cell_type": "code",
   "execution_count": 772,
   "id": "7daaea5e-4cfc-4b9e-a8e6-858cb4ae419c",
   "metadata": {},
   "outputs": [
    {
     "data": {
      "text/plain": [
       "'/Users/codyfalkosky/Desktop/1_extracted_blogs/adventourbegins.com.json'"
      ]
     },
     "execution_count": 772,
     "metadata": {},
     "output_type": "execute_result"
    }
   ],
   "source": [
    "P = 10\n",
    "paths[P]"
   ]
  },
  {
   "cell_type": "code",
   "execution_count": 773,
   "id": "3e4d00f3-f72c-4d8f-8234-a3e6817429d2",
   "metadata": {},
   "outputs": [],
   "source": [
    "with open(paths[P], 'r') as file:\n",
    "    data = json.load(file)"
   ]
  },
  {
   "cell_type": "code",
   "execution_count": 782,
   "id": "4dab6fba-d328-4a4b-add2-dabb21e71c9c",
   "metadata": {},
   "outputs": [],
   "source": [
    "# random check\n",
    "\n",
    "# idx = random.randint(0, len(data))\n",
    "# parser = ArticleParser(data[idx])\n",
    "\n",
    "# parser.data"
   ]
  },
  {
   "cell_type": "code",
   "execution_count": 783,
   "id": "f26e7aaa-f594-483e-8e26-e09c703203d0",
   "metadata": {},
   "outputs": [
    {
     "data": {
      "application/vnd.jupyter.widget-view+json": {
       "model_id": "6282148081544ace9dcd241de499cb5a",
       "version_major": 2,
       "version_minor": 0
      },
      "text/plain": [
       "  0%|          | 0/221 [00:00<?, ?it/s]"
      ]
     },
     "metadata": {},
     "output_type": "display_data"
    }
   ],
   "source": [
    "cleaned_data = []\n",
    "indexes = range(len(data))\n",
    "\n",
    "for idx in tqdm(indexes):\n",
    "    parser = ArticleParser(data[idx])\n",
    "    if len(parser.data) > 4:\n",
    "        cleaned_data.append(parser.data)"
   ]
  },
  {
   "cell_type": "code",
   "execution_count": 784,
   "id": "fe768024-6a0a-4488-927f-a0825837e3cc",
   "metadata": {},
   "outputs": [
    {
     "data": {
      "text/plain": [
       "218"
      ]
     },
     "execution_count": 784,
     "metadata": {},
     "output_type": "execute_result"
    }
   ],
   "source": [
    "len(cleaned_data)"
   ]
  },
  {
   "cell_type": "code",
   "execution_count": 785,
   "id": "6ccaacbc-55f4-401b-848d-7ab0df1831ae",
   "metadata": {},
   "outputs": [
    {
     "name": "stdout",
     "output_type": "stream",
     "text": [
      "/Users/codyfalkosky/Desktop/2_cleaned_data/adventourbegins.com.json\n"
     ]
    }
   ],
   "source": [
    "new_path = paths[P].replace('1_extracted_blogs', '2_cleaned_data')\n",
    "print(new_path)\n",
    "with open(new_path, 'w') as file:\n",
    "    json.dump(cleaned_data, file)"
   ]
  },
  {
   "cell_type": "markdown",
   "id": "d2c2ddc1-8b69-4608-bbe1-a3f9e63ee3de",
   "metadata": {},
   "source": [
    "## Parse Path 11"
   ]
  },
  {
   "cell_type": "code",
   "execution_count": 786,
   "id": "dd60c5bc-2ea1-47fb-a70f-4e32419f1fc0",
   "metadata": {},
   "outputs": [
    {
     "data": {
      "text/plain": [
       "'/Users/codyfalkosky/Desktop/1_extracted_blogs/plateandcompass.com.json'"
      ]
     },
     "execution_count": 786,
     "metadata": {},
     "output_type": "execute_result"
    }
   ],
   "source": [
    "P = 11\n",
    "paths[P]"
   ]
  },
  {
   "cell_type": "code",
   "execution_count": 787,
   "id": "7af3897b-6851-4fe2-b250-8c5989df73a1",
   "metadata": {},
   "outputs": [],
   "source": [
    "with open(paths[P], 'r') as file:\n",
    "    data = json.load(file)"
   ]
  },
  {
   "cell_type": "code",
   "execution_count": 791,
   "id": "71544950-4f3e-49e2-8a3a-18d573c82b0c",
   "metadata": {},
   "outputs": [],
   "source": [
    "# random check\n",
    "\n",
    "# idx = random.randint(0, len(data))\n",
    "# parser = ArticleParser(data[idx])\n",
    "\n",
    "# parser.data"
   ]
  },
  {
   "cell_type": "code",
   "execution_count": 792,
   "id": "a174b7d5-93bf-4e63-8d6d-9e4e861038fd",
   "metadata": {},
   "outputs": [
    {
     "data": {
      "application/vnd.jupyter.widget-view+json": {
       "model_id": "1d7cf69639fa4543aaa9269feeaa01a0",
       "version_major": 2,
       "version_minor": 0
      },
      "text/plain": [
       "  0%|          | 0/47 [00:00<?, ?it/s]"
      ]
     },
     "metadata": {},
     "output_type": "display_data"
    }
   ],
   "source": [
    "cleaned_data = []\n",
    "indexes = range(len(data))\n",
    "\n",
    "for idx in tqdm(indexes):\n",
    "    parser = ArticleParser(data[idx])\n",
    "    if len(parser.data) > 4:\n",
    "        cleaned_data.append(parser.data)"
   ]
  },
  {
   "cell_type": "code",
   "execution_count": 793,
   "id": "1a264b66-4d9b-4edd-954b-0f3517f91700",
   "metadata": {},
   "outputs": [
    {
     "data": {
      "text/plain": [
       "47"
      ]
     },
     "execution_count": 793,
     "metadata": {},
     "output_type": "execute_result"
    }
   ],
   "source": [
    "len(cleaned_data)"
   ]
  },
  {
   "cell_type": "code",
   "execution_count": 794,
   "id": "e974363e-0fa0-4d46-a642-6424430055b5",
   "metadata": {},
   "outputs": [
    {
     "name": "stdout",
     "output_type": "stream",
     "text": [
      "/Users/codyfalkosky/Desktop/2_cleaned_data/plateandcompass.com.json\n"
     ]
    }
   ],
   "source": [
    "new_path = paths[P].replace('1_extracted_blogs', '2_cleaned_data')\n",
    "print(new_path)\n",
    "with open(new_path, 'w') as file:\n",
    "    json.dump(cleaned_data, file)"
   ]
  },
  {
   "cell_type": "markdown",
   "id": "e2dbacc5-ea96-429b-b12d-c8a106d26538",
   "metadata": {
    "jp-MarkdownHeadingCollapsed": true
   },
   "source": [
    "## Parse Path 12"
   ]
  },
  {
   "cell_type": "code",
   "execution_count": 795,
   "id": "42c96c7a-814d-4d2c-8d99-658d8d70fe35",
   "metadata": {},
   "outputs": [
    {
     "data": {
      "text/plain": [
       "'/Users/codyfalkosky/Desktop/1_extracted_blogs/www.nomadasaurus.com.json'"
      ]
     },
     "execution_count": 795,
     "metadata": {},
     "output_type": "execute_result"
    }
   ],
   "source": [
    "P = 12\n",
    "paths[P]"
   ]
  },
  {
   "cell_type": "code",
   "execution_count": 796,
   "id": "426fd48a-83da-4eb8-8b8b-54a9a0d2c8f6",
   "metadata": {},
   "outputs": [],
   "source": [
    "with open(paths[P], 'r') as file:\n",
    "    data = json.load(file)"
   ]
  },
  {
   "cell_type": "code",
   "execution_count": 814,
   "id": "6aeda410-ece9-43ef-861d-699aa8751bb6",
   "metadata": {},
   "outputs": [],
   "source": [
    "# random check\n",
    "\n",
    "# idx = random.randint(0, len(data))\n",
    "# parser = ArticleParser(data[idx])\n",
    "\n",
    "# parser.data"
   ]
  },
  {
   "cell_type": "code",
   "execution_count": 815,
   "id": "eaa5c11c-e313-4385-b239-75331070cff1",
   "metadata": {},
   "outputs": [
    {
     "data": {
      "application/vnd.jupyter.widget-view+json": {
       "model_id": "e35abc3c0c944c3bb3eae0b70fa7fb8c",
       "version_major": 2,
       "version_minor": 0
      },
      "text/plain": [
       "  0%|          | 0/161 [00:00<?, ?it/s]"
      ]
     },
     "metadata": {},
     "output_type": "display_data"
    }
   ],
   "source": [
    "cleaned_data = []\n",
    "indexes = range(len(data))\n",
    "\n",
    "for idx in tqdm(indexes):\n",
    "    parser = ArticleParser(data[idx])\n",
    "    if len(parser.data) > 4:\n",
    "        cleaned_data.append(parser.data)"
   ]
  },
  {
   "cell_type": "code",
   "execution_count": 816,
   "id": "35e6f6fa-b182-4645-afd2-1dceeadfd74e",
   "metadata": {},
   "outputs": [
    {
     "data": {
      "text/plain": [
       "97"
      ]
     },
     "execution_count": 816,
     "metadata": {},
     "output_type": "execute_result"
    }
   ],
   "source": [
    "len(cleaned_data)"
   ]
  },
  {
   "cell_type": "code",
   "execution_count": 817,
   "id": "e0811254-5cfb-4b96-88e4-e496c61f457a",
   "metadata": {},
   "outputs": [
    {
     "name": "stdout",
     "output_type": "stream",
     "text": [
      "/Users/codyfalkosky/Desktop/2_cleaned_data/www.nomadasaurus.com.json\n"
     ]
    }
   ],
   "source": [
    "new_path = paths[P].replace('1_extracted_blogs', '2_cleaned_data')\n",
    "print(new_path)\n",
    "with open(new_path, 'w') as file:\n",
    "    json.dump(cleaned_data, file)"
   ]
  },
  {
   "cell_type": "markdown",
   "id": "f0c39300-b217-430d-a1a9-a7671c64227a",
   "metadata": {
    "jp-MarkdownHeadingCollapsed": true
   },
   "source": [
    "## Parse Path 13"
   ]
  },
  {
   "cell_type": "code",
   "execution_count": 818,
   "id": "edb495eb-396e-4ddd-bd47-48a1278a7e77",
   "metadata": {},
   "outputs": [
    {
     "data": {
      "text/plain": [
       "'/Users/codyfalkosky/Desktop/1_extracted_blogs/practicalwanderlust.com.json'"
      ]
     },
     "execution_count": 818,
     "metadata": {},
     "output_type": "execute_result"
    }
   ],
   "source": [
    "P = 13\n",
    "paths[P]"
   ]
  },
  {
   "cell_type": "code",
   "execution_count": 819,
   "id": "0d6d001d-367c-4b60-9348-e8ea3f948020",
   "metadata": {},
   "outputs": [],
   "source": [
    "with open(paths[P], 'r') as file:\n",
    "    data = json.load(file)"
   ]
  },
  {
   "cell_type": "code",
   "execution_count": 828,
   "id": "f677ffec-9122-4cc8-8aa1-c4be9a8d6309",
   "metadata": {},
   "outputs": [],
   "source": [
    "# random check\n",
    "\n",
    "# idx = random.randint(0, len(data))\n",
    "# parser = ArticleParser(data[idx])\n",
    "\n",
    "# parser.data"
   ]
  },
  {
   "cell_type": "code",
   "execution_count": 829,
   "id": "cf8088f8-fcf3-496c-a6b2-4a0fa39174e6",
   "metadata": {},
   "outputs": [
    {
     "data": {
      "application/vnd.jupyter.widget-view+json": {
       "model_id": "4081ca6cec6444b49ae09cf517329fbd",
       "version_major": 2,
       "version_minor": 0
      },
      "text/plain": [
       "  0%|          | 0/303 [00:00<?, ?it/s]"
      ]
     },
     "metadata": {},
     "output_type": "display_data"
    }
   ],
   "source": [
    "cleaned_data = []\n",
    "indexes = range(len(data))\n",
    "\n",
    "for idx in tqdm(indexes):\n",
    "    parser = ArticleParser(data[idx])\n",
    "    if len(parser.data) > 4:\n",
    "        cleaned_data.append(parser.data)"
   ]
  },
  {
   "cell_type": "code",
   "execution_count": 830,
   "id": "2b4fb255-13ff-44c2-bd9d-b24809f5720a",
   "metadata": {},
   "outputs": [
    {
     "data": {
      "text/plain": [
       "284"
      ]
     },
     "execution_count": 830,
     "metadata": {},
     "output_type": "execute_result"
    }
   ],
   "source": [
    "len(cleaned_data)"
   ]
  },
  {
   "cell_type": "code",
   "execution_count": 831,
   "id": "8d1f5328-2573-4f6b-9540-3086ba9f4f81",
   "metadata": {},
   "outputs": [
    {
     "name": "stdout",
     "output_type": "stream",
     "text": [
      "/Users/codyfalkosky/Desktop/2_cleaned_data/practicalwanderlust.com.json\n"
     ]
    }
   ],
   "source": [
    "new_path = paths[P].replace('1_extracted_blogs', '2_cleaned_data')\n",
    "print(new_path)\n",
    "with open(new_path, 'w') as file:\n",
    "    json.dump(cleaned_data, file)"
   ]
  },
  {
   "cell_type": "markdown",
   "id": "153f2a74-e27c-4ddc-b7da-ca590fadb776",
   "metadata": {
    "jp-MarkdownHeadingCollapsed": true
   },
   "source": [
    "## Parse Path 14"
   ]
  },
  {
   "cell_type": "code",
   "execution_count": 832,
   "id": "eb1ee804-8b45-4b46-9443-929d177a3760",
   "metadata": {},
   "outputs": [
    {
     "data": {
      "text/plain": [
       "'/Users/codyfalkosky/Desktop/1_extracted_blogs/theplanetd.com.json'"
      ]
     },
     "execution_count": 832,
     "metadata": {},
     "output_type": "execute_result"
    }
   ],
   "source": [
    "P = 14\n",
    "paths[P]"
   ]
  },
  {
   "cell_type": "code",
   "execution_count": 833,
   "id": "1687290f-b7e9-405b-bc22-24f0f6a2bdd0",
   "metadata": {},
   "outputs": [],
   "source": [
    "with open(paths[P], 'r') as file:\n",
    "    data = json.load(file)"
   ]
  },
  {
   "cell_type": "code",
   "execution_count": 839,
   "id": "0b0a5577-f614-4e54-a13e-977305a977b7",
   "metadata": {},
   "outputs": [],
   "source": [
    "# random check\n",
    "\n",
    "# idx = random.randint(0, len(data))\n",
    "# parser = ArticleParser(data[idx])\n",
    "\n",
    "# parser.data"
   ]
  },
  {
   "cell_type": "code",
   "execution_count": 840,
   "id": "4c179f8e-a790-4755-97af-d87d17aa9534",
   "metadata": {},
   "outputs": [
    {
     "data": {
      "application/vnd.jupyter.widget-view+json": {
       "model_id": "1311679ae6ce4683a12aef7202b58978",
       "version_major": 2,
       "version_minor": 0
      },
      "text/plain": [
       "  0%|          | 0/1614 [00:00<?, ?it/s]"
      ]
     },
     "metadata": {},
     "output_type": "display_data"
    }
   ],
   "source": [
    "cleaned_data = []\n",
    "indexes = range(len(data))\n",
    "\n",
    "for idx in tqdm(indexes):\n",
    "    parser = ArticleParser(data[idx])\n",
    "    if len(parser.data) > 4:\n",
    "        cleaned_data.append(parser.data)"
   ]
  },
  {
   "cell_type": "code",
   "execution_count": 841,
   "id": "183fc831-bc8d-47d3-8739-5f0e1c6846fb",
   "metadata": {},
   "outputs": [
    {
     "data": {
      "text/plain": [
       "1605"
      ]
     },
     "execution_count": 841,
     "metadata": {},
     "output_type": "execute_result"
    }
   ],
   "source": [
    "len(cleaned_data)"
   ]
  },
  {
   "cell_type": "code",
   "execution_count": 842,
   "id": "bf8fc339-159e-4499-a434-6c72a78431fa",
   "metadata": {},
   "outputs": [
    {
     "name": "stdout",
     "output_type": "stream",
     "text": [
      "/Users/codyfalkosky/Desktop/2_cleaned_data/theplanetd.com.json\n"
     ]
    }
   ],
   "source": [
    "new_path = paths[P].replace('1_extracted_blogs', '2_cleaned_data')\n",
    "print(new_path)\n",
    "with open(new_path, 'w') as file:\n",
    "    json.dump(cleaned_data, file)"
   ]
  },
  {
   "cell_type": "markdown",
   "id": "aeeb06a4-068b-492e-ac29-9f0592a1c7b8",
   "metadata": {
    "jp-MarkdownHeadingCollapsed": true
   },
   "source": [
    "## Parse Path 15"
   ]
  },
  {
   "cell_type": "code",
   "execution_count": 843,
   "id": "a1375b8a-a678-48e1-86a1-4f2f9079f40a",
   "metadata": {},
   "outputs": [
    {
     "data": {
      "text/plain": [
       "'/Users/codyfalkosky/Desktop/1_extracted_blogs/expertvagabond.com.json'"
      ]
     },
     "execution_count": 843,
     "metadata": {},
     "output_type": "execute_result"
    }
   ],
   "source": [
    "P = 15\n",
    "paths[P]"
   ]
  },
  {
   "cell_type": "code",
   "execution_count": 844,
   "id": "15ec3546-8ed9-4421-80a6-3a6a55699210",
   "metadata": {},
   "outputs": [],
   "source": [
    "with open(paths[P], 'r') as file:\n",
    "    data = json.load(file)"
   ]
  },
  {
   "cell_type": "code",
   "execution_count": 896,
   "id": "f51c609f-306b-447f-b2fd-dca1108001eb",
   "metadata": {},
   "outputs": [],
   "source": [
    "# random check\n",
    "\n",
    "# idx = random.randint(0, len(data))\n",
    "# parser = ArticleParser(data[idx])\n",
    "\n",
    "# parser.data"
   ]
  },
  {
   "cell_type": "code",
   "execution_count": 897,
   "id": "d12a5f94-522f-4186-9dbd-5318af27e046",
   "metadata": {},
   "outputs": [
    {
     "data": {
      "application/vnd.jupyter.widget-view+json": {
       "model_id": "9141bc60c5904bf0abb766a68b0a2d9b",
       "version_major": 2,
       "version_minor": 0
      },
      "text/plain": [
       "  0%|          | 0/314 [00:00<?, ?it/s]"
      ]
     },
     "metadata": {},
     "output_type": "display_data"
    }
   ],
   "source": [
    "cleaned_data = []\n",
    "indexes = range(len(data))\n",
    "\n",
    "for idx in tqdm(indexes):\n",
    "    parser = ArticleParser(data[idx])\n",
    "    if len(parser.data) > 4:\n",
    "        cleaned_data.append(parser.data)"
   ]
  },
  {
   "cell_type": "code",
   "execution_count": 898,
   "id": "59d6bf80-3b63-4fd5-b9cd-46c413fc4c99",
   "metadata": {},
   "outputs": [
    {
     "data": {
      "text/plain": [
       "309"
      ]
     },
     "execution_count": 898,
     "metadata": {},
     "output_type": "execute_result"
    }
   ],
   "source": [
    "len(cleaned_data)"
   ]
  },
  {
   "cell_type": "code",
   "execution_count": 899,
   "id": "b6bb799b-876e-48ed-8314-235a1f78f23a",
   "metadata": {},
   "outputs": [
    {
     "name": "stdout",
     "output_type": "stream",
     "text": [
      "/Users/codyfalkosky/Desktop/2_cleaned_data/expertvagabond.com.json\n"
     ]
    }
   ],
   "source": [
    "new_path = paths[P].replace('1_extracted_blogs', '2_cleaned_data')\n",
    "print(new_path)\n",
    "with open(new_path, 'w') as file:\n",
    "    json.dump(cleaned_data, file)"
   ]
  },
  {
   "cell_type": "markdown",
   "id": "fca61b5b-7407-4edd-9a9a-20abff8de3b8",
   "metadata": {
    "jp-MarkdownHeadingCollapsed": true
   },
   "source": [
    "## Parse Path 16 - skipped, did not conform to scrape"
   ]
  },
  {
   "cell_type": "code",
   "execution_count": 900,
   "id": "67615ea9-d2ac-43ef-b449-84162bac3e43",
   "metadata": {},
   "outputs": [
    {
     "data": {
      "text/plain": [
       "'/Users/codyfalkosky/Desktop/1_extracted_blogs/www.danflyingsolo.com.json'"
      ]
     },
     "execution_count": 900,
     "metadata": {},
     "output_type": "execute_result"
    }
   ],
   "source": [
    "P = 16\n",
    "paths[P]"
   ]
  },
  {
   "cell_type": "code",
   "execution_count": 901,
   "id": "287987d7-1e7a-41ac-a3a5-1b6368937e59",
   "metadata": {},
   "outputs": [],
   "source": [
    "with open(paths[P], 'r') as file:\n",
    "    data = json.load(file)"
   ]
  },
  {
   "cell_type": "code",
   "execution_count": 921,
   "id": "2c7454d9-19d7-47b7-8b0c-ef0cebbf6f6f",
   "metadata": {},
   "outputs": [
    {
     "data": {
      "text/plain": [
       "[{'heading': '<h1>Summer Highs in Innsbruck, Where the Alps Are for All</h1>',\n",
       "  'content': 'Home >> Destinations >> Europe >> Austria >> Summer Highs in Innsbruck, Where the Alps Are for All This website uses affiliate links which may earn a commission at no additional cost to you. As an Amazon Associate I earn from qualifying purchases. Updated: 12th March 2024'},\n",
       " {'title': 'Summer in Innsbruck Austria',\n",
       "  'headings': ['<h1>Summer Highs in Innsbruck, Where the Alps Are for All</h1>']}]"
      ]
     },
     "execution_count": 921,
     "metadata": {},
     "output_type": "execute_result"
    }
   ],
   "source": [
    "# random check\n",
    "\n",
    "idx = random.randint(0, len(data))\n",
    "parser = ArticleParser(data[idx])\n",
    "\n",
    "parser.data"
   ]
  },
  {
   "cell_type": "code",
   "execution_count": 897,
   "id": "18a06424-c4a2-4f71-b099-8d87e53882f0",
   "metadata": {},
   "outputs": [
    {
     "data": {
      "application/vnd.jupyter.widget-view+json": {
       "model_id": "9141bc60c5904bf0abb766a68b0a2d9b",
       "version_major": 2,
       "version_minor": 0
      },
      "text/plain": [
       "  0%|          | 0/314 [00:00<?, ?it/s]"
      ]
     },
     "metadata": {},
     "output_type": "display_data"
    }
   ],
   "source": [
    "cleaned_data = []\n",
    "indexes = range(len(data))\n",
    "\n",
    "for idx in tqdm(indexes):\n",
    "    parser = ArticleParser(data[idx])\n",
    "    if len(parser.data) > 4:\n",
    "        cleaned_data.append(parser.data)"
   ]
  },
  {
   "cell_type": "code",
   "execution_count": 898,
   "id": "1472a712-4f7c-4e24-947e-b1e73dfe5feb",
   "metadata": {},
   "outputs": [
    {
     "data": {
      "text/plain": [
       "309"
      ]
     },
     "execution_count": 898,
     "metadata": {},
     "output_type": "execute_result"
    }
   ],
   "source": [
    "len(cleaned_data)"
   ]
  },
  {
   "cell_type": "code",
   "execution_count": 899,
   "id": "04de4b35-2798-4567-be4e-4f3078bce68a",
   "metadata": {},
   "outputs": [
    {
     "name": "stdout",
     "output_type": "stream",
     "text": [
      "/Users/codyfalkosky/Desktop/2_cleaned_data/expertvagabond.com.json\n"
     ]
    }
   ],
   "source": [
    "new_path = paths[P].replace('1_extracted_blogs', '2_cleaned_data')\n",
    "print(new_path)\n",
    "with open(new_path, 'w') as file:\n",
    "    json.dump(cleaned_data, file)"
   ]
  },
  {
   "cell_type": "markdown",
   "id": "e9693126-ae4b-4067-8483-7fea3c0a2d00",
   "metadata": {
    "jp-MarkdownHeadingCollapsed": true
   },
   "source": [
    "## Parse Path 17"
   ]
  },
  {
   "cell_type": "code",
   "execution_count": 922,
   "id": "363720a7-3b08-4837-929e-0192b330dc6a",
   "metadata": {},
   "outputs": [
    {
     "data": {
      "text/plain": [
       "'/Users/codyfalkosky/Desktop/1_extracted_blogs/likewhereyouregoing.com.json'"
      ]
     },
     "execution_count": 922,
     "metadata": {},
     "output_type": "execute_result"
    }
   ],
   "source": [
    "P = 17\n",
    "paths[P]"
   ]
  },
  {
   "cell_type": "code",
   "execution_count": 923,
   "id": "4563ecb0-cec5-4434-b73a-70062c2648b9",
   "metadata": {},
   "outputs": [],
   "source": [
    "with open(paths[P], 'r') as file:\n",
    "    data = json.load(file)"
   ]
  },
  {
   "cell_type": "code",
   "execution_count": 948,
   "id": "045f868b-83f2-400f-b788-6031c8303235",
   "metadata": {},
   "outputs": [],
   "source": [
    "# random check\n",
    "\n",
    "# idx = random.randint(0, len(data))\n",
    "# parser = ArticleParser(data[idx])\n",
    "\n",
    "# parser.data"
   ]
  },
  {
   "cell_type": "code",
   "execution_count": 949,
   "id": "3a194c69-6a7c-472e-95f2-6a7e76ec5478",
   "metadata": {},
   "outputs": [
    {
     "data": {
      "application/vnd.jupyter.widget-view+json": {
       "model_id": "cfd46854d206429b9a535f09bbd847bb",
       "version_major": 2,
       "version_minor": 0
      },
      "text/plain": [
       "  0%|          | 0/202 [00:00<?, ?it/s]"
      ]
     },
     "metadata": {},
     "output_type": "display_data"
    }
   ],
   "source": [
    "cleaned_data = []\n",
    "indexes = range(len(data))\n",
    "\n",
    "for idx in tqdm(indexes):\n",
    "    parser = ArticleParser(data[idx])\n",
    "    if len(parser.data) > 4:\n",
    "        cleaned_data.append(parser.data)"
   ]
  },
  {
   "cell_type": "code",
   "execution_count": 950,
   "id": "8d9e3363-9bae-4bbe-85f9-e452c158bdb6",
   "metadata": {},
   "outputs": [
    {
     "data": {
      "text/plain": [
       "198"
      ]
     },
     "execution_count": 950,
     "metadata": {},
     "output_type": "execute_result"
    }
   ],
   "source": [
    "len(cleaned_data)"
   ]
  },
  {
   "cell_type": "code",
   "execution_count": 951,
   "id": "64d27546-c681-40a8-800e-bd863bbafced",
   "metadata": {},
   "outputs": [
    {
     "name": "stdout",
     "output_type": "stream",
     "text": [
      "/Users/codyfalkosky/Desktop/2_cleaned_data/likewhereyouregoing.com.json\n"
     ]
    }
   ],
   "source": [
    "new_path = paths[P].replace('1_extracted_blogs', '2_cleaned_data')\n",
    "print(new_path)\n",
    "with open(new_path, 'w') as file:\n",
    "    json.dump(cleaned_data, file)"
   ]
  },
  {
   "cell_type": "markdown",
   "id": "4e134a08-4ac1-4726-a27d-cf543c747983",
   "metadata": {
    "jp-MarkdownHeadingCollapsed": true
   },
   "source": [
    "## Parse Path 18"
   ]
  },
  {
   "cell_type": "code",
   "execution_count": 952,
   "id": "b0298602-f180-47eb-ac55-15fbb67fba82",
   "metadata": {},
   "outputs": [
    {
     "data": {
      "text/plain": [
       "'/Users/codyfalkosky/Desktop/1_extracted_blogs/www.saltinourhair.com.json'"
      ]
     },
     "execution_count": 952,
     "metadata": {},
     "output_type": "execute_result"
    }
   ],
   "source": [
    "P = 18\n",
    "paths[P]"
   ]
  },
  {
   "cell_type": "code",
   "execution_count": 953,
   "id": "ec5646bd-3856-4a0d-b48b-913270116d79",
   "metadata": {},
   "outputs": [],
   "source": [
    "with open(paths[P], 'r') as file:\n",
    "    data = json.load(file)"
   ]
  },
  {
   "cell_type": "code",
   "execution_count": 971,
   "id": "8444b095-9860-4305-bd84-d4838361db8f",
   "metadata": {},
   "outputs": [],
   "source": [
    "# random check\n",
    "\n",
    "# idx = random.randint(0, len(data))\n",
    "# parser = ArticleParser(data[idx])\n",
    "\n",
    "# parser.data"
   ]
  },
  {
   "cell_type": "code",
   "execution_count": 972,
   "id": "5b187949-0810-4ae7-88bb-4aeaf7a93d6d",
   "metadata": {},
   "outputs": [
    {
     "data": {
      "application/vnd.jupyter.widget-view+json": {
       "model_id": "11b23ccfc5cc43b0ac465b14817af0e2",
       "version_major": 2,
       "version_minor": 0
      },
      "text/plain": [
       "  0%|          | 0/482 [00:00<?, ?it/s]"
      ]
     },
     "metadata": {},
     "output_type": "display_data"
    }
   ],
   "source": [
    "cleaned_data = []\n",
    "indexes = range(len(data))\n",
    "\n",
    "for idx in tqdm(indexes):\n",
    "    parser = ArticleParser(data[idx])\n",
    "    if len(parser.data) > 4:\n",
    "        cleaned_data.append(parser.data)"
   ]
  },
  {
   "cell_type": "code",
   "execution_count": 973,
   "id": "1f68c1e7-66bd-4c44-945a-d770fd3a788a",
   "metadata": {},
   "outputs": [
    {
     "data": {
      "text/plain": [
       "469"
      ]
     },
     "execution_count": 973,
     "metadata": {},
     "output_type": "execute_result"
    }
   ],
   "source": [
    "len(cleaned_data)"
   ]
  },
  {
   "cell_type": "code",
   "execution_count": 974,
   "id": "8f4ead63-ab50-4e96-bdad-bb12df54fed5",
   "metadata": {},
   "outputs": [
    {
     "name": "stdout",
     "output_type": "stream",
     "text": [
      "/Users/codyfalkosky/Desktop/2_cleaned_data/www.saltinourhair.com.json\n"
     ]
    }
   ],
   "source": [
    "new_path = paths[P].replace('1_extracted_blogs', '2_cleaned_data')\n",
    "print(new_path)\n",
    "with open(new_path, 'w') as file:\n",
    "    json.dump(cleaned_data, file)"
   ]
  },
  {
   "cell_type": "markdown",
   "id": "aeb05021-5dda-4a65-b27c-146ec1d4c807",
   "metadata": {
    "jp-MarkdownHeadingCollapsed": true
   },
   "source": [
    "## Parse Path 19"
   ]
  },
  {
   "cell_type": "code",
   "execution_count": 975,
   "id": "4b4cd1da-a504-4ca1-84a8-d8cc57d122fd",
   "metadata": {},
   "outputs": [
    {
     "data": {
      "text/plain": [
       "'/Users/codyfalkosky/Desktop/1_extracted_blogs/www.goatsontheroad.com.json'"
      ]
     },
     "execution_count": 975,
     "metadata": {},
     "output_type": "execute_result"
    }
   ],
   "source": [
    "P = 19\n",
    "paths[P]"
   ]
  },
  {
   "cell_type": "code",
   "execution_count": 976,
   "id": "f74d7ea9-d30f-4f80-b7cc-2d551002d23f",
   "metadata": {},
   "outputs": [],
   "source": [
    "with open(paths[P], 'r') as file:\n",
    "    data = json.load(file)"
   ]
  },
  {
   "cell_type": "code",
   "execution_count": 998,
   "id": "b64cae4a-d2cc-4236-8235-b6fde4e394ea",
   "metadata": {},
   "outputs": [],
   "source": [
    "# random check\n",
    "\n",
    "# idx = random.randint(0, len(data))\n",
    "# parser = ArticleParser(data[idx])\n",
    "\n",
    "# parser.data"
   ]
  },
  {
   "cell_type": "code",
   "execution_count": 1025,
   "id": "09569e13-d24f-4fe2-b7b9-e7328677154a",
   "metadata": {},
   "outputs": [
    {
     "data": {
      "application/vnd.jupyter.widget-view+json": {
       "model_id": "9604fd5a7ec44017ae5aa70cf4766005",
       "version_major": 2,
       "version_minor": 0
      },
      "text/plain": [
       "  0%|          | 0/1818 [00:00<?, ?it/s]"
      ]
     },
     "metadata": {},
     "output_type": "display_data"
    },
    {
     "name": "stderr",
     "output_type": "stream",
     "text": [
      "/var/folders/2r/h2g9kvps1w1_c5p63hvhgzjr0000gn/T/ipykernel_90983/882156039.py:91: MarkupResemblesLocatorWarning: The input looks more like a filename than markup. You may want to open this file and pass the filehandle into Beautiful Soup.\n",
      "  soup = BeautifulSoup(html, 'html.parser')\n"
     ]
    }
   ],
   "source": [
    "cleaned_data = []\n",
    "indexes = range(len(data))\n",
    "\n",
    "for idx in tqdm(indexes):\n",
    "    parser = ArticleParser(data[idx])\n",
    "    if len(parser.data) > 4:\n",
    "        cleaned_data.append(parser.data)"
   ]
  },
  {
   "cell_type": "code",
   "execution_count": 1026,
   "id": "1a568750-3c46-4528-95af-c667cadb56b8",
   "metadata": {},
   "outputs": [
    {
     "data": {
      "text/plain": [
       "1464"
      ]
     },
     "execution_count": 1026,
     "metadata": {},
     "output_type": "execute_result"
    }
   ],
   "source": [
    "len(cleaned_data)"
   ]
  },
  {
   "cell_type": "code",
   "execution_count": 1027,
   "id": "28aaff58-2e6e-4e1e-83fe-1845330d7f1f",
   "metadata": {},
   "outputs": [
    {
     "name": "stdout",
     "output_type": "stream",
     "text": [
      "/Users/codyfalkosky/Desktop/2_cleaned_data/www.goatsontheroad.com.json\n"
     ]
    }
   ],
   "source": [
    "new_path = paths[P].replace('1_extracted_blogs', '2_cleaned_data')\n",
    "print(new_path)\n",
    "with open(new_path, 'w') as file:\n",
    "    json.dump(cleaned_data, file)"
   ]
  },
  {
   "cell_type": "markdown",
   "id": "814b584c-7249-4207-902a-e7d21bf19005",
   "metadata": {
    "jp-MarkdownHeadingCollapsed": true
   },
   "source": [
    "## Parse Path 20"
   ]
  },
  {
   "cell_type": "code",
   "execution_count": 1028,
   "id": "5b40da93-f8c1-49ee-b2e5-4b5f3eebd87c",
   "metadata": {},
   "outputs": [
    {
     "data": {
      "text/plain": [
       "'/Users/codyfalkosky/Desktop/1_extracted_blogs/tavernatravels.com.json'"
      ]
     },
     "execution_count": 1028,
     "metadata": {},
     "output_type": "execute_result"
    }
   ],
   "source": [
    "P = 20\n",
    "paths[P]"
   ]
  },
  {
   "cell_type": "code",
   "execution_count": 1029,
   "id": "affd913f-b374-456a-a384-0b23db15b0b7",
   "metadata": {},
   "outputs": [],
   "source": [
    "with open(paths[P], 'r') as file:\n",
    "    data = json.load(file)"
   ]
  },
  {
   "cell_type": "code",
   "execution_count": 1039,
   "id": "a9d76700-d5f1-4039-af29-4d931b0a5700",
   "metadata": {},
   "outputs": [],
   "source": [
    "# random check\n",
    "\n",
    "# idx = random.randint(0, len(data))\n",
    "# parser = ArticleParser(data[idx])\n",
    "\n",
    "# parser.data"
   ]
  },
  {
   "cell_type": "code",
   "execution_count": 1040,
   "id": "f82ea059-482a-4595-9979-686edc80e461",
   "metadata": {},
   "outputs": [
    {
     "data": {
      "application/vnd.jupyter.widget-view+json": {
       "model_id": "0ff8c6e232d74e5ca11fac94ae5e5993",
       "version_major": 2,
       "version_minor": 0
      },
      "text/plain": [
       "  0%|          | 0/262 [00:00<?, ?it/s]"
      ]
     },
     "metadata": {},
     "output_type": "display_data"
    }
   ],
   "source": [
    "cleaned_data = []\n",
    "indexes = range(len(data))\n",
    "\n",
    "for idx in tqdm(indexes):\n",
    "    parser = ArticleParser(data[idx])\n",
    "    if len(parser.data) > 4:\n",
    "        cleaned_data.append(parser.data)"
   ]
  },
  {
   "cell_type": "code",
   "execution_count": 1041,
   "id": "947a5f6c-6160-40ad-b387-ccf76303a830",
   "metadata": {},
   "outputs": [
    {
     "data": {
      "text/plain": [
       "257"
      ]
     },
     "execution_count": 1041,
     "metadata": {},
     "output_type": "execute_result"
    }
   ],
   "source": [
    "len(cleaned_data)"
   ]
  },
  {
   "cell_type": "code",
   "execution_count": 1042,
   "id": "86498c49-31f3-462f-9188-9383c4a35219",
   "metadata": {},
   "outputs": [
    {
     "name": "stdout",
     "output_type": "stream",
     "text": [
      "/Users/codyfalkosky/Desktop/2_cleaned_data/tavernatravels.com.json\n"
     ]
    }
   ],
   "source": [
    "new_path = paths[P].replace('1_extracted_blogs', '2_cleaned_data')\n",
    "print(new_path)\n",
    "with open(new_path, 'w') as file:\n",
    "    json.dump(cleaned_data, file)"
   ]
  },
  {
   "cell_type": "markdown",
   "id": "e2c3e9ae-ad4b-4588-b508-1083863410a0",
   "metadata": {
    "jp-MarkdownHeadingCollapsed": true
   },
   "source": [
    "## Parse Path 21"
   ]
  },
  {
   "cell_type": "code",
   "execution_count": 1044,
   "id": "67c25988-ae14-4c87-a156-78913fa4916f",
   "metadata": {},
   "outputs": [
    {
     "data": {
      "text/plain": [
       "'/Users/codyfalkosky/Desktop/1_extracted_blogs/virginiatraveltips.com.json'"
      ]
     },
     "execution_count": 1044,
     "metadata": {},
     "output_type": "execute_result"
    }
   ],
   "source": [
    "P = 21\n",
    "paths[P]"
   ]
  },
  {
   "cell_type": "code",
   "execution_count": 1045,
   "id": "5ccf0f23-f749-4ea0-8432-e8feb1424080",
   "metadata": {},
   "outputs": [],
   "source": [
    "with open(paths[P], 'r') as file:\n",
    "    data = json.load(file)"
   ]
  },
  {
   "cell_type": "code",
   "execution_count": 1122,
   "id": "76543534-9ef3-4246-87a4-6378253a9e63",
   "metadata": {},
   "outputs": [],
   "source": [
    "# random check\n",
    "\n",
    "# idx = random.randint(0, len(data))\n",
    "# parser = ArticleParser(data[idx])\n",
    "\n",
    "# parser.data"
   ]
  },
  {
   "cell_type": "code",
   "execution_count": 1123,
   "id": "b8a256e7-7fb5-48ec-97d1-d820ceed2a6f",
   "metadata": {},
   "outputs": [
    {
     "data": {
      "application/vnd.jupyter.widget-view+json": {
       "model_id": "323f572c1b154ba4862b24e95a8276e9",
       "version_major": 2,
       "version_minor": 0
      },
      "text/plain": [
       "  0%|          | 0/200 [00:00<?, ?it/s]"
      ]
     },
     "metadata": {},
     "output_type": "display_data"
    }
   ],
   "source": [
    "cleaned_data = []\n",
    "indexes = range(len(data))\n",
    "\n",
    "for idx in tqdm(indexes):\n",
    "    parser = ArticleParser(data[idx])\n",
    "    if len(parser.data) > 4:\n",
    "        cleaned_data.append(parser.data)"
   ]
  },
  {
   "cell_type": "code",
   "execution_count": 1124,
   "id": "104d9b77-22bc-432c-9c8e-3622a3f076ea",
   "metadata": {},
   "outputs": [
    {
     "data": {
      "text/plain": [
       "199"
      ]
     },
     "execution_count": 1124,
     "metadata": {},
     "output_type": "execute_result"
    }
   ],
   "source": [
    "len(cleaned_data)"
   ]
  },
  {
   "cell_type": "code",
   "execution_count": 1125,
   "id": "7caa2e54-dbcd-442c-af5e-f5bf334b6d8e",
   "metadata": {},
   "outputs": [
    {
     "name": "stdout",
     "output_type": "stream",
     "text": [
      "/Users/codyfalkosky/Desktop/2_cleaned_data/virginiatraveltips.com.json\n"
     ]
    }
   ],
   "source": [
    "new_path = paths[P].replace('1_extracted_blogs', '2_cleaned_data')\n",
    "print(new_path)\n",
    "with open(new_path, 'w') as file:\n",
    "    json.dump(cleaned_data, file)"
   ]
  },
  {
   "cell_type": "markdown",
   "id": "a6e08f30-9921-49b2-97fb-0f7f5b9eacec",
   "metadata": {
    "jp-MarkdownHeadingCollapsed": true
   },
   "source": [
    "## Parse Path 22"
   ]
  },
  {
   "cell_type": "code",
   "execution_count": 1126,
   "id": "d2530d55-2e95-4c82-96ba-be27acb95ebb",
   "metadata": {},
   "outputs": [
    {
     "data": {
      "text/plain": [
       "'/Users/codyfalkosky/Desktop/1_extracted_blogs/www.globeguide.ca.json'"
      ]
     },
     "execution_count": 1126,
     "metadata": {},
     "output_type": "execute_result"
    }
   ],
   "source": [
    "P = 22\n",
    "paths[P]"
   ]
  },
  {
   "cell_type": "code",
   "execution_count": 1127,
   "id": "0e9d150f-853b-42f2-9555-b7623a2fe177",
   "metadata": {},
   "outputs": [],
   "source": [
    "with open(paths[P], 'r') as file:\n",
    "    data = json.load(file)"
   ]
  },
  {
   "cell_type": "code",
   "execution_count": 1192,
   "id": "edfd048b-6ee9-4802-ae9d-b1d67763f2e1",
   "metadata": {},
   "outputs": [],
   "source": [
    "# random check\n",
    "\n",
    "# idx = random.randint(0, len(data))\n",
    "# parser = ArticleParser(data[idx])\n",
    "\n",
    "# parser.data"
   ]
  },
  {
   "cell_type": "code",
   "execution_count": 1193,
   "id": "c8c45bab-178d-441c-afe8-ef7d87218bf9",
   "metadata": {},
   "outputs": [
    {
     "data": {
      "application/vnd.jupyter.widget-view+json": {
       "model_id": "0cac74049b1e4a65a3fbe1efc84361c9",
       "version_major": 2,
       "version_minor": 0
      },
      "text/plain": [
       "  0%|          | 0/643 [00:00<?, ?it/s]"
      ]
     },
     "metadata": {},
     "output_type": "display_data"
    }
   ],
   "source": [
    "cleaned_data = []\n",
    "indexes = range(len(data))\n",
    "\n",
    "for idx in tqdm(indexes):\n",
    "    parser = ArticleParser(data[idx])\n",
    "    if len(parser.data) > 4:\n",
    "        cleaned_data.append(parser.data)"
   ]
  },
  {
   "cell_type": "code",
   "execution_count": 1194,
   "id": "f1611965-93e7-4991-862f-91afb5c62099",
   "metadata": {},
   "outputs": [
    {
     "data": {
      "text/plain": [
       "539"
      ]
     },
     "execution_count": 1194,
     "metadata": {},
     "output_type": "execute_result"
    }
   ],
   "source": [
    "len(cleaned_data)"
   ]
  },
  {
   "cell_type": "code",
   "execution_count": 1195,
   "id": "92e28628-e2f0-41d2-ad61-99433111ebf0",
   "metadata": {},
   "outputs": [
    {
     "name": "stdout",
     "output_type": "stream",
     "text": [
      "/Users/codyfalkosky/Desktop/2_cleaned_data/www.globeguide.ca.json\n"
     ]
    }
   ],
   "source": [
    "new_path = paths[P].replace('1_extracted_blogs', '2_cleaned_data')\n",
    "print(new_path)\n",
    "with open(new_path, 'w') as file:\n",
    "    json.dump(cleaned_data, file)"
   ]
  },
  {
   "cell_type": "markdown",
   "id": "8a42bb0c-0eaa-4382-bc80-8ed2ccfa686c",
   "metadata": {
    "jp-MarkdownHeadingCollapsed": true
   },
   "source": [
    "## Parse Path 23"
   ]
  },
  {
   "cell_type": "code",
   "execution_count": 1196,
   "id": "f7cc0663-8d5e-42e8-b1a9-0d93ce42b992",
   "metadata": {},
   "outputs": [
    {
     "data": {
      "text/plain": [
       "'/Users/codyfalkosky/Desktop/1_extracted_blogs/www.theblondeabroad.com.json'"
      ]
     },
     "execution_count": 1196,
     "metadata": {},
     "output_type": "execute_result"
    }
   ],
   "source": [
    "P = 23\n",
    "paths[P]"
   ]
  },
  {
   "cell_type": "code",
   "execution_count": 1197,
   "id": "cdfd896e-36b5-444a-8b62-8f641362c033",
   "metadata": {},
   "outputs": [],
   "source": [
    "with open(paths[P], 'r') as file:\n",
    "    data = json.load(file)"
   ]
  },
  {
   "cell_type": "code",
   "execution_count": 1217,
   "id": "883fec97-d25f-4529-8b7d-f4093c9c0a06",
   "metadata": {},
   "outputs": [],
   "source": [
    "# random check\n",
    "\n",
    "# idx = random.randint(0, len(data))\n",
    "# parser = ArticleParser(data[idx])\n",
    "\n",
    "# parser.data"
   ]
  },
  {
   "cell_type": "code",
   "execution_count": 1218,
   "id": "6fc065c8-f545-4858-9e38-ea22664d88b1",
   "metadata": {},
   "outputs": [
    {
     "data": {
      "application/vnd.jupyter.widget-view+json": {
       "model_id": "217252f3565a4748955b0ce59386f990",
       "version_major": 2,
       "version_minor": 0
      },
      "text/plain": [
       "  0%|          | 0/1401 [00:00<?, ?it/s]"
      ]
     },
     "metadata": {},
     "output_type": "display_data"
    }
   ],
   "source": [
    "cleaned_data = []\n",
    "indexes = range(len(data))\n",
    "\n",
    "for idx in tqdm(indexes):\n",
    "    parser = ArticleParser(data[idx])\n",
    "    if len(parser.data) > 4:\n",
    "        cleaned_data.append(parser.data)"
   ]
  },
  {
   "cell_type": "code",
   "execution_count": 1219,
   "id": "1d8f6f8e-6cd5-4b8b-bcf2-f3470a6e5e97",
   "metadata": {},
   "outputs": [
    {
     "data": {
      "text/plain": [
       "1243"
      ]
     },
     "execution_count": 1219,
     "metadata": {},
     "output_type": "execute_result"
    }
   ],
   "source": [
    "len(cleaned_data)"
   ]
  },
  {
   "cell_type": "code",
   "execution_count": 1220,
   "id": "02b987ac-07bd-4fa5-bf6e-d193b3992b4f",
   "metadata": {},
   "outputs": [
    {
     "name": "stdout",
     "output_type": "stream",
     "text": [
      "/Users/codyfalkosky/Desktop/2_cleaned_data/www.theblondeabroad.com.json\n"
     ]
    }
   ],
   "source": [
    "new_path = paths[P].replace('1_extracted_blogs', '2_cleaned_data')\n",
    "print(new_path)\n",
    "with open(new_path, 'w') as file:\n",
    "    json.dump(cleaned_data, file)"
   ]
  },
  {
   "cell_type": "markdown",
   "id": "781445d3-f630-4ba4-9cbd-bf6a4262131c",
   "metadata": {
    "jp-MarkdownHeadingCollapsed": true
   },
   "source": [
    "## Parse Path 24 - EXCLUDED"
   ]
  },
  {
   "cell_type": "code",
   "execution_count": 1221,
   "id": "1ea07a6a-cbc9-4584-91a6-6a63e0c6000a",
   "metadata": {},
   "outputs": [
    {
     "data": {
      "text/plain": [
       "'/Users/codyfalkosky/Desktop/1_extracted_blogs/jessieonajourney.com.json'"
      ]
     },
     "execution_count": 1221,
     "metadata": {},
     "output_type": "execute_result"
    }
   ],
   "source": [
    "P = 24\n",
    "paths[P]"
   ]
  },
  {
   "cell_type": "code",
   "execution_count": 1222,
   "id": "e1630a36-ccbb-4bda-a524-09e7e7d5ecd2",
   "metadata": {},
   "outputs": [],
   "source": [
    "with open(paths[P], 'r') as file:\n",
    "    data = json.load(file)"
   ]
  },
  {
   "cell_type": "code",
   "execution_count": 1363,
   "id": "edd61714-61e5-4df0-89e4-5b1897078318",
   "metadata": {},
   "outputs": [],
   "source": [
    "# random check\n",
    "\n",
    "# idx = random.randint(0, len(data))\n",
    "# parser = ArticleParser(data[idx])\n",
    "\n",
    "# parser.data"
   ]
  },
  {
   "cell_type": "code",
   "execution_count": 1364,
   "id": "7928805a-ffcd-4338-8396-58545b07d572",
   "metadata": {},
   "outputs": [
    {
     "data": {
      "application/vnd.jupyter.widget-view+json": {
       "model_id": "71b0a731029d44ff80f38ce6b89a80b0",
       "version_major": 2,
       "version_minor": 0
      },
      "text/plain": [
       "  0%|          | 0/1047 [00:00<?, ?it/s]"
      ]
     },
     "metadata": {},
     "output_type": "display_data"
    }
   ],
   "source": [
    "cleaned_data = []\n",
    "indexes = range(len(data))\n",
    "\n",
    "for idx in tqdm(indexes):\n",
    "    parser = ArticleParser(data[idx])\n",
    "    if len(parser.data) > 4:\n",
    "        cleaned_data.append(parser.data)"
   ]
  },
  {
   "cell_type": "code",
   "execution_count": 1365,
   "id": "6c8d31a4-b01b-4691-b517-83c57c7bd3c2",
   "metadata": {},
   "outputs": [
    {
     "data": {
      "text/plain": [
       "498"
      ]
     },
     "execution_count": 1365,
     "metadata": {},
     "output_type": "execute_result"
    }
   ],
   "source": [
    "len(cleaned_data)"
   ]
  },
  {
   "cell_type": "code",
   "execution_count": 1366,
   "id": "fad84507-af86-4046-8282-4898bcdce2c2",
   "metadata": {},
   "outputs": [
    {
     "name": "stdout",
     "output_type": "stream",
     "text": [
      "/Users/codyfalkosky/Desktop/2_cleaned_data/jessieonajourney.com.json\n"
     ]
    }
   ],
   "source": [
    "new_path = paths[P].replace('1_extracted_blogs', '2_cleaned_data')\n",
    "print(new_path)\n",
    "with open(new_path, 'w') as file:\n",
    "    json.dump(cleaned_data, file)"
   ]
  },
  {
   "cell_type": "markdown",
   "id": "354a4090-3d75-4c43-8dae-e1cd1d66527b",
   "metadata": {
    "jp-MarkdownHeadingCollapsed": true
   },
   "source": [
    "## Parse Path 25"
   ]
  },
  {
   "cell_type": "code",
   "execution_count": 1367,
   "id": "a804c4ca-405a-4efd-939e-895a0a81d92f",
   "metadata": {},
   "outputs": [
    {
     "data": {
      "text/plain": [
       "'/Users/codyfalkosky/Desktop/1_extracted_blogs/britonthemove.com.json'"
      ]
     },
     "execution_count": 1367,
     "metadata": {},
     "output_type": "execute_result"
    }
   ],
   "source": [
    "P = 25\n",
    "paths[P]"
   ]
  },
  {
   "cell_type": "code",
   "execution_count": 1368,
   "id": "295e4753-b717-4256-9dde-9ed4653b0ad6",
   "metadata": {},
   "outputs": [],
   "source": [
    "with open(paths[P], 'r') as file:\n",
    "    data = json.load(file)"
   ]
  },
  {
   "cell_type": "code",
   "execution_count": 1420,
   "id": "3d170a0b-1afa-4087-94b2-52265cec221c",
   "metadata": {},
   "outputs": [],
   "source": [
    "# random check\n",
    "\n",
    "# idx = random.randint(0, len(data))\n",
    "# parser = ArticleParser(data[idx])\n",
    "\n",
    "# parser.data"
   ]
  },
  {
   "cell_type": "code",
   "execution_count": 1421,
   "id": "f2634595-bdd6-4cba-abb4-04e19a661e22",
   "metadata": {},
   "outputs": [
    {
     "data": {
      "application/vnd.jupyter.widget-view+json": {
       "model_id": "aaecb3702f0e424b9c0d3913269e3597",
       "version_major": 2,
       "version_minor": 0
      },
      "text/plain": [
       "  0%|          | 0/475 [00:00<?, ?it/s]"
      ]
     },
     "metadata": {},
     "output_type": "display_data"
    }
   ],
   "source": [
    "cleaned_data = []\n",
    "indexes = range(len(data))\n",
    "\n",
    "for idx in tqdm(indexes):\n",
    "    parser = ArticleParser(data[idx])\n",
    "    if len(parser.data) > 4:\n",
    "        cleaned_data.append(parser.data)"
   ]
  },
  {
   "cell_type": "code",
   "execution_count": 1422,
   "id": "f00a118f-5d65-41b8-9088-b925eed32b10",
   "metadata": {},
   "outputs": [
    {
     "data": {
      "text/plain": [
       "471"
      ]
     },
     "execution_count": 1422,
     "metadata": {},
     "output_type": "execute_result"
    }
   ],
   "source": [
    "len(cleaned_data)"
   ]
  },
  {
   "cell_type": "code",
   "execution_count": 1423,
   "id": "d43297ed-7bd2-4ff2-b83f-fff242c519e7",
   "metadata": {},
   "outputs": [
    {
     "name": "stdout",
     "output_type": "stream",
     "text": [
      "/Users/codyfalkosky/Desktop/2_cleaned_data/britonthemove.com.json\n"
     ]
    }
   ],
   "source": [
    "new_path = paths[P].replace('1_extracted_blogs', '2_cleaned_data')\n",
    "print(new_path)\n",
    "with open(new_path, 'w') as file:\n",
    "    json.dump(cleaned_data, file)"
   ]
  },
  {
   "cell_type": "markdown",
   "id": "c7b1d780-3bc9-47a5-a618-e117ce068a5f",
   "metadata": {
    "jp-MarkdownHeadingCollapsed": true
   },
   "source": [
    "## Parse Path 26"
   ]
  },
  {
   "cell_type": "code",
   "execution_count": 1424,
   "id": "8f64f991-21b4-46dc-9389-e88f467b38f9",
   "metadata": {},
   "outputs": [
    {
     "data": {
      "text/plain": [
       "'/Users/codyfalkosky/Desktop/1_extracted_blogs/www.jonesaroundtheworld.com.json'"
      ]
     },
     "execution_count": 1424,
     "metadata": {},
     "output_type": "execute_result"
    }
   ],
   "source": [
    "P = 26\n",
    "paths[P]"
   ]
  },
  {
   "cell_type": "code",
   "execution_count": 1425,
   "id": "290643ac-91ac-4f56-ba74-5715e7c8b87c",
   "metadata": {},
   "outputs": [],
   "source": [
    "with open(paths[P], 'r') as file:\n",
    "    data = json.load(file)"
   ]
  },
  {
   "cell_type": "code",
   "execution_count": 1551,
   "id": "22e9bef8-0ba9-4b6c-bb2e-9768c10fcac0",
   "metadata": {},
   "outputs": [],
   "source": [
    "# random check\n",
    "\n",
    "# idx = random.randint(0, len(data))\n",
    "# parser = ArticleParser(data[idx])\n",
    "\n",
    "# parser.data"
   ]
  },
  {
   "cell_type": "code",
   "execution_count": 1552,
   "id": "a45ba4b2-601d-4ab6-8648-5c5dc617dd76",
   "metadata": {},
   "outputs": [
    {
     "data": {
      "application/vnd.jupyter.widget-view+json": {
       "model_id": "5dcd676875ef4d29976742a3ae9fdc18",
       "version_major": 2,
       "version_minor": 0
      },
      "text/plain": [
       "  0%|          | 0/1016 [00:00<?, ?it/s]"
      ]
     },
     "metadata": {},
     "output_type": "display_data"
    }
   ],
   "source": [
    "cleaned_data = []\n",
    "indexes = range(len(data))\n",
    "\n",
    "for idx in tqdm(indexes):\n",
    "    parser = ArticleParser(data[idx])\n",
    "    if len(parser.data) > 4:\n",
    "        cleaned_data.append(parser.data)"
   ]
  },
  {
   "cell_type": "code",
   "execution_count": 1553,
   "id": "01babfdd-e7a2-4f80-8f72-7160a4f37bb0",
   "metadata": {},
   "outputs": [
    {
     "data": {
      "text/plain": [
       "966"
      ]
     },
     "execution_count": 1553,
     "metadata": {},
     "output_type": "execute_result"
    }
   ],
   "source": [
    "len(cleaned_data)"
   ]
  },
  {
   "cell_type": "code",
   "execution_count": 1554,
   "id": "c3c1e493-70d9-4eb7-bbd5-a894f35a12dd",
   "metadata": {},
   "outputs": [
    {
     "name": "stdout",
     "output_type": "stream",
     "text": [
      "/Users/codyfalkosky/Desktop/2_cleaned_data/www.jonesaroundtheworld.com.json\n"
     ]
    }
   ],
   "source": [
    "new_path = paths[P].replace('1_extracted_blogs', '2_cleaned_data')\n",
    "print(new_path)\n",
    "with open(new_path, 'w') as file:\n",
    "    json.dump(cleaned_data, file)"
   ]
  }
 ],
 "metadata": {
  "kernelspec": {
   "display_name": "Python 3 (ipykernel)",
   "language": "python",
   "name": "python3"
  },
  "language_info": {
   "codemirror_mode": {
    "name": "ipython",
    "version": 3
   },
   "file_extension": ".py",
   "mimetype": "text/x-python",
   "name": "python",
   "nbconvert_exporter": "python",
   "pygments_lexer": "ipython3",
   "version": "3.12.0"
  }
 },
 "nbformat": 4,
 "nbformat_minor": 5
}
