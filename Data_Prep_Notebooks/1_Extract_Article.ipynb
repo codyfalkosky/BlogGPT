{
 "cells": [
  {
   "cell_type": "code",
   "execution_count": 1,
   "id": "26798b8b-de6a-4081-8f49-8afe391a5d35",
   "metadata": {},
   "outputs": [],
   "source": [
    "from bs4 import BeautifulSoup\n",
    "import numpy as np\n",
    "from tqdm.notebook import tqdm\n",
    "import glob\n",
    "import json"
   ]
  },
  {
   "cell_type": "code",
   "execution_count": null,
   "id": "bb6eb928-fef5-43d7-aeb3-ff796a1339d0",
   "metadata": {},
   "outputs": [],
   "source": [
    "class ArticleExtractor:\n",
    "\n",
    "    def __init__(self, paths):\n",
    "        self.paths = paths\n",
    "        self.blog_articles = []\n",
    "\n",
    "        for path in tqdm(paths):\n",
    "            self._open(path)\n",
    "            self._get_blog_articles(path)\n",
    "\n",
    "        print(f'{len(self.blog_articles)} articles found')\n",
    "\n",
    "    def _open(self, path):\n",
    "        with open(path, 'r') as file:\n",
    "            self.html = file.read()\n",
    "\n",
    "    def _get_blog_articles(self, path):\n",
    "        soup = BeautifulSoup(self.html, 'html.parser')\n",
    "        articles = soup.find_all('article', {'class':'type-post'})\n",
    "\n",
    "        if len(articles) == 1:\n",
    "            self.blog_articles.append({'path':path, 'article':str(articles[0])})\n",
    "\n",
    "    def save(self, path):\n",
    "        with open(path, 'w') as file:\n",
    "            json.dump(self.blog_articles, file)\n",
    "\n",
    "        print(f'saved at: {path}')"
   ]
  },
  {
   "cell_type": "markdown",
   "id": "708dc6fd-9f1a-4ffc-8ec4-60bc02e3dc8c",
   "metadata": {},
   "source": [
    "### adventourbegins.com"
   ]
  },
  {
   "cell_type": "code",
   "execution_count": 19,
   "id": "7ddb0ca0-12a9-4315-a039-7159aedddecf",
   "metadata": {},
   "outputs": [
    {
     "data": {
      "application/vnd.jupyter.widget-view+json": {
       "model_id": "6c985ad7bff643528d19aad7d53af9a5",
       "version_major": 2,
       "version_minor": 0
      },
      "text/plain": [
       "  0%|          | 0/239 [00:00<?, ?it/s]"
      ]
     },
     "metadata": {},
     "output_type": "display_data"
    },
    {
     "name": "stderr",
     "output_type": "stream",
     "text": [
      "/Library/Frameworks/Python.framework/Versions/3.12/lib/python3.12/html/parser.py:171: XMLParsedAsHTMLWarning: It looks like you're parsing an XML document using an HTML parser. If this really is an HTML document (maybe it's XHTML?), you can ignore or filter this warning. If it's XML, you should know that using an XML parser will be more reliable. To parse this document as XML, make sure you have the lxml package installed, and pass the keyword argument `features=\"xml\"` into the BeautifulSoup constructor.\n",
      "  k = self.parse_starttag(i)\n"
     ]
    },
    {
     "name": "stdout",
     "output_type": "stream",
     "text": [
      "221 articles found\n",
      "saved at: /Volumes/2024 ML/data/1_extracted_blogs/adventourbegins.com.json\n"
     ]
    }
   ],
   "source": [
    "class adventourbeginsArticleExtractor(ArticleExtractor):\n",
    "\n",
    "    def _get_blog_articles(self, path):\n",
    "        soup = BeautifulSoup(self.html, 'html.parser')\n",
    "        articles = soup.find_all('article', {'class':'type-post'})\n",
    "\n",
    "        if len(articles) == 1:\n",
    "            self.blog_articles.append({'path':path, 'article':str(articles[0])})\n",
    "\n",
    "\n",
    "folder       = 'adventourbegins.com'\n",
    "html_files   = glob.glob(f'/Volumes/2024 ML/data/0_raw_blog_scrape/{folder}/**/*.html')\n",
    "article_extractor = adventourbeginsArticleExtractor(html_files)\n",
    "article_extractor.save(f'/Volumes/2024 ML/data/1_extracted_blogs/{folder}.json')"
   ]
  },
  {
   "cell_type": "markdown",
   "id": "ed8fc738-8885-4627-b3cb-5a67f3ea6f2a",
   "metadata": {},
   "source": [
    "### britonthemove.com"
   ]
  },
  {
   "cell_type": "code",
   "execution_count": 20,
   "id": "f6e34985-88b0-4b0a-a3b4-dd5786ab1fe6",
   "metadata": {},
   "outputs": [
    {
     "data": {
      "application/vnd.jupyter.widget-view+json": {
       "model_id": "44c9d2842ce64d0d89477ce21b861dec",
       "version_major": 2,
       "version_minor": 0
      },
      "text/plain": [
       "  0%|          | 0/502 [00:00<?, ?it/s]"
      ]
     },
     "metadata": {},
     "output_type": "display_data"
    },
    {
     "name": "stdout",
     "output_type": "stream",
     "text": [
      "475 articles found\n",
      "saved at: /Volumes/2024 ML/data/1_extracted_blogs/britonthemove.com.json\n"
     ]
    }
   ],
   "source": [
    "class britonthemoveArticleExtractor(ArticleExtractor):\n",
    "\n",
    "    def _get_blog_articles(self, path):\n",
    "        soup = BeautifulSoup(self.html, 'html.parser')\n",
    "\n",
    "        def query(tag):\n",
    "            if not tag.name == 'article':\n",
    "                return False\n",
    "            if not 'single-entry' in tag['class']:\n",
    "                return False\n",
    "            if not 'type-post' in tag['class']:\n",
    "                return False\n",
    "            return True\n",
    "\n",
    "            \n",
    "        articles = soup.find_all(query)\n",
    "\n",
    "        if len(articles) == 1:\n",
    "            self.blog_articles.append({'path':path, 'article':str(articles[0])})\n",
    "\n",
    "folder       = 'britonthemove.com'\n",
    "html_files   = glob.glob(f'/Volumes/2024 ML/data/0_raw_blog_scrape/{folder}/**/*.html')\n",
    "article_extractor = britonthemoveArticleExtractor(html_files)\n",
    "article_extractor.save(f'/Volumes/2024 ML/data/1_extracted_blogs/{folder}.json')"
   ]
  },
  {
   "cell_type": "markdown",
   "id": "d35c6f3a-571b-4c0e-bc9e-e58b4fda5f7f",
   "metadata": {},
   "source": [
    "### expertvagabond.com"
   ]
  },
  {
   "cell_type": "code",
   "execution_count": 21,
   "id": "e65d32bf-84d6-4b72-8af7-8a5d64a03bde",
   "metadata": {},
   "outputs": [
    {
     "data": {
      "application/vnd.jupyter.widget-view+json": {
       "model_id": "8726dcb23f1048d082ff1a1d10072e47",
       "version_major": 2,
       "version_minor": 0
      },
      "text/plain": [
       "  0%|          | 0/352 [00:00<?, ?it/s]"
      ]
     },
     "metadata": {},
     "output_type": "display_data"
    },
    {
     "name": "stdout",
     "output_type": "stream",
     "text": [
      "314 articles found\n",
      "saved at: /Volumes/2024 ML/data/1_extracted_blogs/expertvagabond.com.json\n"
     ]
    }
   ],
   "source": [
    "class expertvagabondArticleExtractor(ArticleExtractor):\n",
    "\n",
    "    def _get_blog_articles(self, path):\n",
    "        soup = BeautifulSoup(self.html, 'html.parser')\n",
    "        articles = soup.find_all('article', {'class':'type-post'})\n",
    "\n",
    "        if len(articles) == 1:\n",
    "            self.blog_articles.append({'path':path, 'article':str(articles[0])})\n",
    "\n",
    "\n",
    "folder       = 'expertvagabond.com'\n",
    "html_files   = glob.glob(f'/Volumes/2024 ML/data/0_raw_blog_scrape/{folder}/**/*.html')\n",
    "article_extractor = expertvagabondArticleExtractor(html_files)\n",
    "article_extractor.save(f'/Volumes/2024 ML/data/1_extracted_blogs/{folder}.json')"
   ]
  },
  {
   "cell_type": "markdown",
   "id": "0bc7f029-329d-44d8-a1f2-e4352955ad34",
   "metadata": {},
   "source": [
    "### jessieonajourney.com"
   ]
  },
  {
   "cell_type": "code",
   "execution_count": 22,
   "id": "dcf5da4e-5a26-4305-b408-6b0a9d4205ad",
   "metadata": {},
   "outputs": [
    {
     "data": {
      "application/vnd.jupyter.widget-view+json": {
       "model_id": "c2fe6e17c5d94140926a99b1b0b889b9",
       "version_major": 2,
       "version_minor": 0
      },
      "text/plain": [
       "  0%|          | 0/1329 [00:00<?, ?it/s]"
      ]
     },
     "metadata": {},
     "output_type": "display_data"
    },
    {
     "name": "stdout",
     "output_type": "stream",
     "text": [
      "1047 articles found\n",
      "saved at: /Volumes/2024 ML/data/1_extracted_blogs/jessieonajourney.com.json\n"
     ]
    }
   ],
   "source": [
    "class jessieonajourneyArticleExtractor(ArticleExtractor):\n",
    "\n",
    "    def _get_blog_articles(self, path):\n",
    "        soup = BeautifulSoup(self.html, 'html.parser')\n",
    "        articles = soup.find_all('article', {'class':'type-post'})\n",
    "\n",
    "        if len(articles) == 1:\n",
    "            self.blog_articles.append({'path':path, 'article':str(articles[0])})\n",
    "\n",
    "\n",
    "folder       = 'jessieonajourney.com'\n",
    "html_files   = glob.glob(f'/Volumes/2024 ML/data/0_raw_blog_scrape/{folder}/**/*.html')\n",
    "article_extractor = jessieonajourneyArticleExtractor(html_files)\n",
    "article_extractor.save(f'/Volumes/2024 ML/data/1_extracted_blogs/{folder}.json')"
   ]
  },
  {
   "cell_type": "markdown",
   "id": "f7b37e04-3583-4256-81de-0d26efbebf0b",
   "metadata": {},
   "source": [
    "### likewhereyouregoing.com"
   ]
  },
  {
   "cell_type": "code",
   "execution_count": 23,
   "id": "1aa469fc-4ca2-4e22-841a-c7c0af3290bc",
   "metadata": {},
   "outputs": [
    {
     "data": {
      "application/vnd.jupyter.widget-view+json": {
       "model_id": "3e3936b71f70469d82828879736e5eaa",
       "version_major": 2,
       "version_minor": 0
      },
      "text/plain": [
       "  0%|          | 0/213 [00:00<?, ?it/s]"
      ]
     },
     "metadata": {},
     "output_type": "display_data"
    },
    {
     "name": "stdout",
     "output_type": "stream",
     "text": [
      "202 articles found\n",
      "saved at: /Volumes/2024 ML/data/1_extracted_blogs/likewhereyouregoing.com.json\n"
     ]
    }
   ],
   "source": [
    "class likewhereyouregoingArticleExtractor(ArticleExtractor):\n",
    "\n",
    "    def _get_blog_articles(self, path):\n",
    "        soup = BeautifulSoup(self.html, 'html.parser')\n",
    "        articles = soup.find_all('article', {'class':'type-post'})\n",
    "\n",
    "        if len(articles) == 1:\n",
    "            self.blog_articles.append({'path':path, 'article':str(articles[0])})\n",
    "\n",
    "\n",
    "folder       = 'likewhereyouregoing.com'\n",
    "html_files   = glob.glob(f'/Volumes/2024 ML/data/0_raw_blog_scrape/{folder}/**/*.html')\n",
    "article_extractor = likewhereyouregoingArticleExtractor(html_files)\n",
    "article_extractor.save(f'/Volumes/2024 ML/data/1_extracted_blogs/{folder}.json')"
   ]
  },
  {
   "cell_type": "markdown",
   "id": "163cfdad-70db-45b0-97a4-d87b9fa33933",
   "metadata": {},
   "source": [
    "### ordinarytraveler.com"
   ]
  },
  {
   "cell_type": "code",
   "execution_count": 24,
   "id": "54322a17-15a3-4241-99cb-cd831c65711c",
   "metadata": {},
   "outputs": [
    {
     "data": {
      "application/vnd.jupyter.widget-view+json": {
       "model_id": "c40669039e3848f79b98da9e21032489",
       "version_major": 2,
       "version_minor": 0
      },
      "text/plain": [
       "  0%|          | 0/576 [00:00<?, ?it/s]"
      ]
     },
     "metadata": {},
     "output_type": "display_data"
    },
    {
     "name": "stderr",
     "output_type": "stream",
     "text": [
      "/var/folders/2r/h2g9kvps1w1_c5p63hvhgzjr0000gn/T/ipykernel_2241/771937256.py:21: MarkupResemblesLocatorWarning: The input looks more like a filename than markup. You may want to open this file and pass the filehandle into Beautiful Soup.\n",
      "  soup = BeautifulSoup(self.html, 'html.parser')\n"
     ]
    },
    {
     "name": "stdout",
     "output_type": "stream",
     "text": [
      "532 articles found\n",
      "saved at: /Volumes/2024 ML/data/1_extracted_blogs/ordinarytraveler.com.json\n"
     ]
    }
   ],
   "source": [
    "class ordinarytravelerArticleExtractor(ArticleExtractor):\n",
    "\n",
    "    def _get_blog_articles(self, path):\n",
    "        soup = BeautifulSoup(self.html, 'html.parser')\n",
    "\n",
    "        def query(tag):\n",
    "            if not tag.name == 'article':\n",
    "                return False\n",
    "            if not 'type-post' in tag['class']:\n",
    "                return False\n",
    "            if not 'single-entry' in tag['class']:\n",
    "                return False\n",
    "            return True\n",
    "        \n",
    "        articles = soup.find_all(query)\n",
    "\n",
    "        if len(articles) == 1:\n",
    "            self.blog_articles.append({'path':path, 'article':str(articles[0])})\n",
    "\n",
    "\n",
    "folder       = 'ordinarytraveler.com'\n",
    "html_files   = glob.glob(f'/Volumes/2024 ML/data/0_raw_blog_scrape/{folder}/*')\n",
    "article_extractor = ordinarytravelerArticleExtractor(html_files)\n",
    "article_extractor.save(f'/Volumes/2024 ML/data/1_extracted_blogs/{folder}.json')"
   ]
  },
  {
   "cell_type": "markdown",
   "id": "4c7c1040-78da-4586-addf-d2d675b53309",
   "metadata": {},
   "source": [
    "### plateandcompass.com"
   ]
  },
  {
   "cell_type": "code",
   "execution_count": 25,
   "id": "e68fcfd3-2fdf-45f8-85ca-e056c3f8468f",
   "metadata": {},
   "outputs": [
    {
     "data": {
      "application/vnd.jupyter.widget-view+json": {
       "model_id": "af9281367b084f4e86f91d99ddd92a64",
       "version_major": 2,
       "version_minor": 0
      },
      "text/plain": [
       "  0%|          | 0/56 [00:00<?, ?it/s]"
      ]
     },
     "metadata": {},
     "output_type": "display_data"
    },
    {
     "name": "stdout",
     "output_type": "stream",
     "text": [
      "47 articles found\n",
      "saved at: /Volumes/2024 ML/data/1_extracted_blogs/plateandcompass.com.json\n"
     ]
    }
   ],
   "source": [
    "class plateandcompassArticleExtractor(ArticleExtractor):\n",
    "\n",
    "    def _get_blog_articles(self, path):\n",
    "        soup = BeautifulSoup(self.html, 'html.parser')\n",
    "        \n",
    "        articles = soup.find_all('article', {'class':'type-post'})\n",
    "\n",
    "        if len(articles) == 1:\n",
    "            self.blog_articles.append({'path':path, 'article':str(articles[0])})\n",
    "\n",
    "\n",
    "folder       = 'plateandcompass.com'\n",
    "html_files   = glob.glob(f'/Volumes/2024 ML/data/0_raw_blog_scrape/{folder}/**/*.html')\n",
    "article_extractor = plateandcompassArticleExtractor(html_files)\n",
    "article_extractor.save(f'/Volumes/2024 ML/data/1_extracted_blogs/{folder}.json')"
   ]
  },
  {
   "cell_type": "markdown",
   "id": "e6ef1592-e2fb-41cb-bcf5-0575386c7958",
   "metadata": {},
   "source": [
    "### practicalwanderlust.com"
   ]
  },
  {
   "cell_type": "code",
   "execution_count": 26,
   "id": "2e4178bf-5738-4ac6-abc7-6da85277bb78",
   "metadata": {},
   "outputs": [
    {
     "data": {
      "application/vnd.jupyter.widget-view+json": {
       "model_id": "972cb3ba9001464b8012a4348bfd5355",
       "version_major": 2,
       "version_minor": 0
      },
      "text/plain": [
       "  0%|          | 0/316 [00:00<?, ?it/s]"
      ]
     },
     "metadata": {},
     "output_type": "display_data"
    },
    {
     "name": "stdout",
     "output_type": "stream",
     "text": [
      "303 articles found\n",
      "saved at: /Volumes/2024 ML/data/1_extracted_blogs/practicalwanderlust.com.json\n"
     ]
    }
   ],
   "source": [
    "class practicalwanderlustArticleExtractor(ArticleExtractor):\n",
    "\n",
    "    def _get_blog_articles(self, path):\n",
    "        soup = BeautifulSoup(self.html, 'html.parser')\n",
    "        \n",
    "        articles = soup.find_all('article', {'class':'type-post'})\n",
    "\n",
    "        # if len(articles) == 1:\n",
    "        self.blog_articles.append({'path':path, 'article':str(articles[0])})\n",
    "\n",
    "\n",
    "folder       = 'practicalwanderlust.com'\n",
    "html_files   = glob.glob(f'/Volumes/2024 ML/data/0_raw_blog_scrape/{folder}/**/*.html')\n",
    "article_extractor = practicalwanderlustArticleExtractor(html_files)\n",
    "article_extractor.save(f'/Volumes/2024 ML/data/1_extracted_blogs/{folder}.json')"
   ]
  },
  {
   "cell_type": "markdown",
   "id": "51be4bb7-9246-4b55-9a45-e15da619441b",
   "metadata": {},
   "source": [
    "### tavernatravels.com"
   ]
  },
  {
   "cell_type": "code",
   "execution_count": 27,
   "id": "b292d10f-9845-4327-970e-4113c0279647",
   "metadata": {},
   "outputs": [
    {
     "data": {
      "application/vnd.jupyter.widget-view+json": {
       "model_id": "d5d8217f772245f494259d629053e8b2",
       "version_major": 2,
       "version_minor": 0
      },
      "text/plain": [
       "  0%|          | 0/270 [00:00<?, ?it/s]"
      ]
     },
     "metadata": {},
     "output_type": "display_data"
    },
    {
     "name": "stdout",
     "output_type": "stream",
     "text": [
      "262 articles found\n",
      "saved at: /Volumes/2024 ML/data/1_extracted_blogs/tavernatravels.com.json\n"
     ]
    }
   ],
   "source": [
    "class tavernatravelsArticleExtractor(ArticleExtractor):\n",
    "\n",
    "    def _get_blog_articles(self, path):\n",
    "        soup = BeautifulSoup(self.html, 'html.parser')\n",
    "        \n",
    "        articles = soup.find_all('div', {'class':'content'})\n",
    "\n",
    "        if len(articles) == 1:\n",
    "            self.blog_articles.append({'path':path, 'article':str(articles[0])})\n",
    "\n",
    "\n",
    "folder       = 'tavernatravels.com'\n",
    "html_files   = glob.glob(f'/Volumes/2024 ML/data/0_raw_blog_scrape/{folder}/**/*.html')\n",
    "article_extractor = tavernatravelsArticleExtractor(html_files)\n",
    "article_extractor.save(f'/Volumes/2024 ML/data/1_extracted_blogs/{folder}.json')"
   ]
  },
  {
   "cell_type": "markdown",
   "id": "8edaeeef-4010-4b99-9cad-d94b592ddd8c",
   "metadata": {},
   "source": [
    "### theplanetd.com"
   ]
  },
  {
   "cell_type": "code",
   "execution_count": 28,
   "id": "e9368617-6f05-409d-8e6f-a7869016aadd",
   "metadata": {},
   "outputs": [
    {
     "data": {
      "application/vnd.jupyter.widget-view+json": {
       "model_id": "9bbb0157ad7d42d4ad80a73bc33556ae",
       "version_major": 2,
       "version_minor": 0
      },
      "text/plain": [
       "  0%|          | 0/1651 [00:00<?, ?it/s]"
      ]
     },
     "metadata": {},
     "output_type": "display_data"
    },
    {
     "name": "stdout",
     "output_type": "stream",
     "text": [
      "1614 articles found\n",
      "saved at: /Volumes/2024 ML/data/1_extracted_blogs/theplanetd.com.json\n"
     ]
    }
   ],
   "source": [
    "class theplanetdArticleExtractor(ArticleExtractor):\n",
    "\n",
    "    def _get_blog_articles(self, path):\n",
    "        soup = BeautifulSoup(self.html, 'html.parser')\n",
    "\n",
    "        def query(tag):\n",
    "            if not tag.name == 'article':\n",
    "                return False\n",
    "            if not 'type-post' in tag['class']:\n",
    "                return False\n",
    "            if 'wp-show-posts-single' in tag['class']:\n",
    "                return False\n",
    "            return True\n",
    "        \n",
    "        articles = soup.find_all(query)\n",
    "\n",
    "        if len(articles) == 1:\n",
    "            self.blog_articles.append({'path':path, 'article':str(articles[0])})\n",
    "\n",
    "\n",
    "folder       = 'theplanetd.com'\n",
    "html_files   = glob.glob(f'/Volumes/2024 ML/data/0_raw_blog_scrape/{folder}/**/*.html')\n",
    "article_extractor = theplanetdArticleExtractor(html_files)\n",
    "article_extractor.save(f'/Volumes/2024 ML/data/1_extracted_blogs/{folder}.json')"
   ]
  },
  {
   "cell_type": "markdown",
   "id": "8deda2c7-cf9f-4b1b-8b55-9e89a4326e1f",
   "metadata": {},
   "source": [
    "### virginiatraveltips.com"
   ]
  },
  {
   "cell_type": "code",
   "execution_count": 29,
   "id": "10e04a70-8c7f-4e9d-80d2-caa16fb5084d",
   "metadata": {},
   "outputs": [
    {
     "data": {
      "application/vnd.jupyter.widget-view+json": {
       "model_id": "e43b29307ed445448aebfd56d0061930",
       "version_major": 2,
       "version_minor": 0
      },
      "text/plain": [
       "  0%|          | 0/209 [00:00<?, ?it/s]"
      ]
     },
     "metadata": {},
     "output_type": "display_data"
    },
    {
     "name": "stdout",
     "output_type": "stream",
     "text": [
      "200 articles found\n",
      "saved at: /Volumes/2024 ML/data/1_extracted_blogs/virginiatraveltips.com.json\n"
     ]
    }
   ],
   "source": [
    "class virginiatraveltipsdArticleExtractor(ArticleExtractor):\n",
    "\n",
    "    def _get_blog_articles(self, path):\n",
    "        soup = BeautifulSoup(self.html, 'html.parser')\n",
    "\n",
    "        def query(tag):\n",
    "            if not tag.name == 'article':\n",
    "                return False\n",
    "            if not 'type-post' in tag['class']:\n",
    "                return False\n",
    "            if 'wp-show-posts-single' in tag['class']:\n",
    "                return False\n",
    "            return True\n",
    "        \n",
    "        articles = soup.find_all(query)\n",
    "\n",
    "        if len(articles) == 1:\n",
    "            self.blog_articles.append({'path':path, 'article':str(articles[0])})\n",
    "\n",
    "\n",
    "folder       = 'virginiatraveltips.com'\n",
    "html_files   = glob.glob(f'/Volumes/2024 ML/data/0_raw_blog_scrape/{folder}/**/*.html')\n",
    "article_extractor = virginiatraveltipsdArticleExtractor(html_files)\n",
    "article_extractor.save(f'/Volumes/2024 ML/data/1_extracted_blogs/{folder}.json')"
   ]
  },
  {
   "cell_type": "markdown",
   "id": "33361d5f-41bd-4278-8585-2b5e074ba65b",
   "metadata": {},
   "source": [
    "### adventuresnsunsets.com"
   ]
  },
  {
   "cell_type": "code",
   "execution_count": 30,
   "id": "569245b2-64be-4e5c-816e-73261d6cfea0",
   "metadata": {},
   "outputs": [
    {
     "data": {
      "application/vnd.jupyter.widget-view+json": {
       "model_id": "aa9f7f4ec23e41d390fdc81499015272",
       "version_major": 2,
       "version_minor": 0
      },
      "text/plain": [
       "  0%|          | 0/527 [00:00<?, ?it/s]"
      ]
     },
     "metadata": {},
     "output_type": "display_data"
    },
    {
     "name": "stdout",
     "output_type": "stream",
     "text": [
      "507 articles found\n",
      "saved at: /Volumes/2024 ML/data/1_extracted_blogs/www.adventuresnsunsets.com.json\n"
     ]
    }
   ],
   "source": [
    "class adventuresnsunsetsArticleExtractor(ArticleExtractor):\n",
    "\n",
    "    def _get_blog_articles(self, path):\n",
    "        soup = BeautifulSoup(self.html, 'html.parser')\n",
    "\n",
    "        def query(tag):\n",
    "            if not tag.name == 'article':\n",
    "                return False\n",
    "            if not 'type-post' in tag['class']:\n",
    "                return False\n",
    "            if 'wp-show-posts-single' in tag['class']:\n",
    "                return False\n",
    "            return True\n",
    "        \n",
    "        articles = soup.find_all(query)\n",
    "\n",
    "        if len(articles) == 1:\n",
    "            self.blog_articles.append({'path':path, 'article':str(articles[0])})\n",
    "\n",
    "\n",
    "folder       = 'www.adventuresnsunsets.com'\n",
    "html_files   = glob.glob(f'/Volumes/2024 ML/data/0_raw_blog_scrape/{folder}/**/*.html')\n",
    "article_extractor = adventuresnsunsetsArticleExtractor(html_files)\n",
    "article_extractor.save(f'/Volumes/2024 ML/data/1_extracted_blogs/{folder}.json')"
   ]
  },
  {
   "cell_type": "markdown",
   "id": "9f76f65c-c9e6-490c-bc62-952484c36b15",
   "metadata": {},
   "source": [
    "### adventurouskate.com"
   ]
  },
  {
   "cell_type": "code",
   "execution_count": 31,
   "id": "d3ab6d73-ead0-45d7-9fcf-dcabd53bcc68",
   "metadata": {},
   "outputs": [
    {
     "data": {
      "application/vnd.jupyter.widget-view+json": {
       "model_id": "086185350751434385cd2b28313af7d9",
       "version_major": 2,
       "version_minor": 0
      },
      "text/plain": [
       "  0%|          | 0/948 [00:00<?, ?it/s]"
      ]
     },
     "metadata": {},
     "output_type": "display_data"
    },
    {
     "name": "stdout",
     "output_type": "stream",
     "text": [
      "939 articles found\n",
      "saved at: /Volumes/2024 ML/data/1_extracted_blogs/www.adventurouskate.com.json\n"
     ]
    }
   ],
   "source": [
    "class adventurouskateArticleExtractor(ArticleExtractor):\n",
    "\n",
    "    def _get_blog_articles(self, path):\n",
    "        soup = BeautifulSoup(self.html, 'html.parser')\n",
    "\n",
    "        def query(tag):\n",
    "            if not tag.name == 'article':\n",
    "                return False\n",
    "            if not 'type-post' in tag['class']:\n",
    "                return False\n",
    "            if 'wp-show-posts-single' in tag['class']:\n",
    "                return False\n",
    "            return True\n",
    "        \n",
    "        articles = soup.find_all(query)\n",
    "\n",
    "        if len(articles) == 1:\n",
    "            self.blog_articles.append({'path':path, 'article':str(articles[0])})\n",
    "\n",
    "\n",
    "folder       = 'www.adventurouskate.com'\n",
    "html_files   = glob.glob(f'/Volumes/2024 ML/data/0_raw_blog_scrape/{folder}/**/*.html')\n",
    "article_extractor = adventurouskateArticleExtractor(html_files)\n",
    "article_extractor.save(f'/Volumes/2024 ML/data/1_extracted_blogs/{folder}.json')"
   ]
  },
  {
   "cell_type": "markdown",
   "id": "b573ef84-4f69-4505-92f0-a01787839864",
   "metadata": {},
   "source": [
    "### alexinwanderland.com"
   ]
  },
  {
   "cell_type": "code",
   "execution_count": 32,
   "id": "b88a8b2a-7b59-4d9d-b739-bb79f1ab4e17",
   "metadata": {},
   "outputs": [
    {
     "data": {
      "application/vnd.jupyter.widget-view+json": {
       "model_id": "2df36df9a00a4c18b90b187b17f42200",
       "version_major": 2,
       "version_minor": 0
      },
      "text/plain": [
       "  0%|          | 0/1747 [00:00<?, ?it/s]"
      ]
     },
     "metadata": {},
     "output_type": "display_data"
    },
    {
     "name": "stdout",
     "output_type": "stream",
     "text": [
      "1677 articles found\n",
      "saved at: /Volumes/2024 ML/data/1_extracted_blogs/www.alexinwanderland.com.json\n"
     ]
    }
   ],
   "source": [
    "class alexinwanderlandArticleExtractor(ArticleExtractor):\n",
    "\n",
    "    def _get_blog_articles(self, path):\n",
    "        soup = BeautifulSoup(self.html, 'html.parser')\n",
    "\n",
    "        def query(tag):\n",
    "            if not tag.name == 'article':\n",
    "                return False\n",
    "            if not 'page-content' in tag['class']:\n",
    "                return False\n",
    "            if 'wp-show-posts-single' in tag['class']:\n",
    "                return False\n",
    "            return True\n",
    "        \n",
    "        articles = soup.find_all(query)\n",
    "\n",
    "        if len(articles) == 1:\n",
    "            self.blog_articles.append({'path':path, 'article':str(articles[0])})\n",
    "\n",
    "\n",
    "folder       = 'www.alexinwanderland.com'\n",
    "html_files   = glob.glob(f'/Volumes/2024 ML/data/0_raw_blog_scrape/{folder}/**/*.html')\n",
    "article_extractor = alexinwanderlandArticleExtractor(html_files)\n",
    "article_extractor.save(f'/Volumes/2024 ML/data/1_extracted_blogs/{folder}.json')"
   ]
  },
  {
   "cell_type": "markdown",
   "id": "03406ed1-04a3-47f4-b7dc-ed59b181851b",
   "metadata": {},
   "source": [
    "### alongdustyroads.com"
   ]
  },
  {
   "cell_type": "code",
   "execution_count": 33,
   "id": "fcd442cc-61e9-40f8-ac13-7969a3fc71f7",
   "metadata": {},
   "outputs": [
    {
     "data": {
      "application/vnd.jupyter.widget-view+json": {
       "model_id": "8c562cd6e2fc424d981fb4965715e6fd",
       "version_major": 2,
       "version_minor": 0
      },
      "text/plain": [
       "  0%|          | 0/276 [00:00<?, ?it/s]"
      ]
     },
     "metadata": {},
     "output_type": "display_data"
    },
    {
     "name": "stdout",
     "output_type": "stream",
     "text": [
      "270 articles found\n",
      "saved at: /Volumes/2024 ML/data/1_extracted_blogs/www.alongdustyroads.com.json\n"
     ]
    }
   ],
   "source": [
    "class alongdustyroadsArticleExtractor(ArticleExtractor):\n",
    "\n",
    "    def _get_blog_articles(self, path):\n",
    "        soup = BeautifulSoup(self.html, 'html.parser')\n",
    "\n",
    "        def query(tag):\n",
    "            if not tag.name == 'article':\n",
    "                return False\n",
    "            # if not 'page-content' in tag['class']:\n",
    "            #     return False\n",
    "            # if 'wp-show-posts-single' in tag['class']:\n",
    "            #     return False\n",
    "            return True\n",
    "        \n",
    "        articles = soup.find_all(query)\n",
    "\n",
    "        if len(articles) == 1:\n",
    "            self.blog_articles.append({'path':path, 'article':str(articles[0])})\n",
    "\n",
    "\n",
    "folder       = 'www.alongdustyroads.com'\n",
    "html_files   = glob.glob(f'/Volumes/2024 ML/data/0_raw_blog_scrape/www.alongdustyroads.com/posts/*')\n",
    "article_extractor = alongdustyroadsArticleExtractor(html_files)\n",
    "article_extractor.save(f'/Volumes/2024 ML/data/1_extracted_blogs/{folder}.json')"
   ]
  },
  {
   "cell_type": "markdown",
   "id": "aac61ae7-e55c-40f5-be84-37e9a31f9d93",
   "metadata": {},
   "source": [
    "### danflyingsolo.com"
   ]
  },
  {
   "cell_type": "code",
   "execution_count": 34,
   "id": "ba400da8-a589-4060-96ea-c909dc96ff05",
   "metadata": {},
   "outputs": [
    {
     "data": {
      "application/vnd.jupyter.widget-view+json": {
       "model_id": "1ad08435ddd54879b241bf4852fce868",
       "version_major": 2,
       "version_minor": 0
      },
      "text/plain": [
       "  0%|          | 0/307 [00:00<?, ?it/s]"
      ]
     },
     "metadata": {},
     "output_type": "display_data"
    },
    {
     "name": "stdout",
     "output_type": "stream",
     "text": [
      "285 articles found\n",
      "saved at: /Volumes/2024 ML/data/1_extracted_blogs/www.danflyingsolo.com.json\n"
     ]
    }
   ],
   "source": [
    "class danflyingsoloArticleExtractor(ArticleExtractor):\n",
    "\n",
    "    def _get_blog_articles(self, path):\n",
    "        soup = BeautifulSoup(self.html, 'html.parser')\n",
    "        \n",
    "        articles = soup.find_all('article', {'class':'type-post'})\n",
    "\n",
    "        if len(articles) == 1:\n",
    "            self.blog_articles.append({'path':path, 'article':str(articles[0])})\n",
    "\n",
    "\n",
    "folder       = 'www.danflyingsolo.com'\n",
    "html_files   = glob.glob(f'/Volumes/2024 ML/data/0_raw_blog_scrape/{folder}/**/index.html')\n",
    "article_extractor = danflyingsoloArticleExtractor(html_files)\n",
    "article_extractor.save(f'/Volumes/2024 ML/data/1_extracted_blogs/{folder}.json')"
   ]
  },
  {
   "cell_type": "markdown",
   "id": "dc277777-e652-4194-92e3-002656c5298e",
   "metadata": {},
   "source": [
    "### globeguide.ca"
   ]
  },
  {
   "cell_type": "code",
   "execution_count": 35,
   "id": "3a132669-4c51-4523-952e-8bae756d7cc8",
   "metadata": {},
   "outputs": [
    {
     "data": {
      "application/vnd.jupyter.widget-view+json": {
       "model_id": "0c9fa8006e6d4c7cb1b5dd2f59cb727c",
       "version_major": 2,
       "version_minor": 0
      },
      "text/plain": [
       "  0%|          | 0/669 [00:00<?, ?it/s]"
      ]
     },
     "metadata": {},
     "output_type": "display_data"
    },
    {
     "name": "stdout",
     "output_type": "stream",
     "text": [
      "643 articles found\n",
      "saved at: /Volumes/2024 ML/data/1_extracted_blogs/www.globeguide.ca.json\n"
     ]
    }
   ],
   "source": [
    "class globeguideArticleExtractor(ArticleExtractor):\n",
    "\n",
    "    def _get_blog_articles(self, path):\n",
    "        soup = BeautifulSoup(self.html, 'html.parser')\n",
    "        \n",
    "        articles = soup.find_all('article', {'class':'type-post'})\n",
    "\n",
    "        if len(articles) == 1:\n",
    "            self.blog_articles.append({'path':path, 'article':str(articles[0])})\n",
    "\n",
    "\n",
    "folder       = 'www.globeguide.ca'\n",
    "html_files   = glob.glob(f'/Volumes/2024 ML/data/0_raw_blog_scrape/{folder}/**/index.html')\n",
    "article_extractor = globeguideArticleExtractor(html_files)\n",
    "article_extractor.save(f'/Volumes/2024 ML/data/1_extracted_blogs/{folder}.json')"
   ]
  },
  {
   "cell_type": "markdown",
   "id": "f3e2717a-2fd8-4f3d-8963-7415be20d2b1",
   "metadata": {},
   "source": [
    "### goatsontheroad.com"
   ]
  },
  {
   "cell_type": "code",
   "execution_count": 36,
   "id": "68c57d59-10ee-4d66-9c5f-7ec39cf59a0c",
   "metadata": {},
   "outputs": [
    {
     "data": {
      "application/vnd.jupyter.widget-view+json": {
       "model_id": "5cb13236cc234f43b9398b4a8be316d9",
       "version_major": 2,
       "version_minor": 0
      },
      "text/plain": [
       "  0%|          | 0/1954 [00:00<?, ?it/s]"
      ]
     },
     "metadata": {},
     "output_type": "display_data"
    },
    {
     "name": "stdout",
     "output_type": "stream",
     "text": [
      "'utf-8' codec can't decode byte 0xff in position 0: invalid start byte\n",
      "1818 articles found\n",
      "saved at: /Volumes/2024 ML/data/1_extracted_blogs/www.goatsontheroad.com.json\n"
     ]
    }
   ],
   "source": [
    "class goatsontheroadArticleExtractor(ArticleExtractor):\n",
    "\n",
    "    def _get_blog_articles(self, path):\n",
    "        soup = BeautifulSoup(self.html, 'html.parser')\n",
    "        \n",
    "        articles = soup.find_all('article', {'class':'type-post'})\n",
    "\n",
    "        if len(articles) == 1:\n",
    "            self.blog_articles.append({'path':path, 'article':str(articles[0])})\n",
    "\n",
    "\n",
    "folder       = 'www.goatsontheroad.com'\n",
    "html_files   = glob.glob(f'/Volumes/2024 ML/data/0_raw_blog_scrape/{folder}/**/index.html')\n",
    "article_extractor = goatsontheroadArticleExtractor(html_files)\n",
    "article_extractor.save(f'/Volumes/2024 ML/data/1_extracted_blogs/{folder}.json')"
   ]
  },
  {
   "cell_type": "markdown",
   "id": "ef75c374-0762-465e-b440-ae1912cc5307",
   "metadata": {},
   "source": [
    "### jonesaroundtheworld.com"
   ]
  },
  {
   "cell_type": "code",
   "execution_count": 37,
   "id": "7c341cbc-bd56-4d6b-93c4-8c904c1cf517",
   "metadata": {},
   "outputs": [
    {
     "data": {
      "application/vnd.jupyter.widget-view+json": {
       "model_id": "02232ee2c424450796d65ea3eff93b7a",
       "version_major": 2,
       "version_minor": 0
      },
      "text/plain": [
       "  0%|          | 0/1096 [00:00<?, ?it/s]"
      ]
     },
     "metadata": {},
     "output_type": "display_data"
    },
    {
     "name": "stdout",
     "output_type": "stream",
     "text": [
      "1016 articles found\n",
      "saved at: /Volumes/2024 ML/data/1_extracted_blogs/www.jonesaroundtheworld.com.json\n"
     ]
    }
   ],
   "source": [
    "class jonesaroundtheworld.ArticleExtractor(ArticleExtractor):\n",
    "\n",
    "    def _get_blog_articles(self, path):\n",
    "        soup = BeautifulSoup(self.html, 'html.parser')\n",
    "        \n",
    "        articles = soup.find_all('article', {'class':'type-post'})\n",
    "\n",
    "        if len(articles) == 1:\n",
    "            self.blog_articles.append({'path':path, 'article':str(articles[0])})\n",
    "\n",
    "\n",
    "folder       = 'www.jonesaroundtheworld.com'\n",
    "html_files   = glob.glob(f'/Volumes/2024 ML/data/0_raw_blog_scrape/{folder}/**/index.html')\n",
    "article_extractor = jonesaroundtheworld.ArticleExtractor(html_files)\n",
    "article_extractor.save(f'/Volumes/2024 ML/data/1_extracted_blogs/{folder}.json')"
   ]
  },
  {
   "cell_type": "markdown",
   "id": "29b933c5-3d21-4041-9718-3239aef52c48",
   "metadata": {},
   "source": [
    "### legalnomads.com"
   ]
  },
  {
   "cell_type": "code",
   "execution_count": 38,
   "id": "496b6f2f-9bb8-45c7-ac41-0fc232246a90",
   "metadata": {},
   "outputs": [
    {
     "data": {
      "application/vnd.jupyter.widget-view+json": {
       "model_id": "789c38eaef1e40f2b3b1e29db8df4b59",
       "version_major": 2,
       "version_minor": 0
      },
      "text/plain": [
       "  0%|          | 0/332 [00:00<?, ?it/s]"
      ]
     },
     "metadata": {},
     "output_type": "display_data"
    },
    {
     "name": "stdout",
     "output_type": "stream",
     "text": [
      "303 articles found\n",
      "saved at: /Volumes/2024 ML/data/1_extracted_blogs/www.legalnomads.com.json\n"
     ]
    }
   ],
   "source": [
    "class legalnomadsArticleExtractor(ArticleExtractor):\n",
    "\n",
    "    def _get_blog_articles(self, path):\n",
    "        soup = BeautifulSoup(self.html, 'html.parser')\n",
    "        \n",
    "        articles = soup.find_all('article', {'class':'type-post'})\n",
    "\n",
    "        if len(articles) == 1:\n",
    "            self.blog_articles.append({'path':path, 'article':str(articles[0])})\n",
    "\n",
    "folder       = 'www.legalnomads.com'\n",
    "html_files   = glob.glob(f'/Volumes/2024 ML/data/0_raw_blog_scrape/{folder}/**/index.html')\n",
    "article_extractor = legalnomadsArticleExtractor(html_files)\n",
    "article_extractor.save(f'/Volumes/2024 ML/data/1_extracted_blogs/{folder}.json')"
   ]
  },
  {
   "cell_type": "markdown",
   "id": "504e21ab-9e86-4046-9195-2a9d3cc2f2f2",
   "metadata": {},
   "source": [
    "### nomadasaurus.com"
   ]
  },
  {
   "cell_type": "code",
   "execution_count": 39,
   "id": "bd446078-656d-47fc-ac04-49a460a53455",
   "metadata": {},
   "outputs": [
    {
     "data": {
      "application/vnd.jupyter.widget-view+json": {
       "model_id": "0391773e8e69470a87e2bcb14b0bb03c",
       "version_major": 2,
       "version_minor": 0
      },
      "text/plain": [
       "  0%|          | 0/1067 [00:00<?, ?it/s]"
      ]
     },
     "metadata": {},
     "output_type": "display_data"
    },
    {
     "name": "stdout",
     "output_type": "stream",
     "text": [
      "941 articles found\n",
      "saved at: /Volumes/2024 ML/data/1_extracted_blogs/www.nomadasaurus.com.json\n"
     ]
    }
   ],
   "source": [
    "class nomadasaurusArticleExtractor(ArticleExtractor):\n",
    "\n",
    "    def _get_blog_articles(self, path):\n",
    "        soup = BeautifulSoup(self.html, 'html.parser')\n",
    "\n",
    "        def query(tag):\n",
    "            if not tag.name == 'div':\n",
    "                return False\n",
    "            if not 'class' in tag.attrs:\n",
    "                return False\n",
    "            if not 'type-post' in tag['class']:\n",
    "                return False\n",
    "            if 'e-loop-item' in tag['class']:\n",
    "                return False\n",
    "            return True\n",
    "        \n",
    "        articles = soup.find_all(query)\n",
    "\n",
    "        if len(articles) == 1:\n",
    "            self.blog_articles.append({'path':path, 'article':str(articles[0])})\n",
    "\n",
    "\n",
    "folder       = 'www.nomadasaurus.com'\n",
    "html_files   = glob.glob(f'/Volumes/2024 ML/data/0_raw_blog_scrape/{folder}/**/index.html')\n",
    "article_extractor = nomadasaurusArticleExtractor(html_files)\n",
    "article_extractor.save(f'/Volumes/2024 ML/data/1_extracted_blogs/{folder}.json')"
   ]
  },
  {
   "cell_type": "markdown",
   "id": "dcddda6f-fa26-4639-b50d-b6a4075cd7bc",
   "metadata": {},
   "source": [
    "### nomadicmatt.com"
   ]
  },
  {
   "cell_type": "code",
   "execution_count": 40,
   "id": "3615dd20-7d04-4c83-ab3e-3d314ef59672",
   "metadata": {},
   "outputs": [
    {
     "data": {
      "application/vnd.jupyter.widget-view+json": {
       "model_id": "82cbb35f24eb4020ac7dbe9a630b1710",
       "version_major": 2,
       "version_minor": 0
      },
      "text/plain": [
       "  0%|          | 0/161 [00:00<?, ?it/s]"
      ]
     },
     "metadata": {},
     "output_type": "display_data"
    },
    {
     "name": "stdout",
     "output_type": "stream",
     "text": [
      "161 articles found\n",
      "saved at: /Volumes/2024 ML/data/1_extracted_blogs/www.nomadasaurus.com.json\n"
     ]
    }
   ],
   "source": [
    "class nomadicmattArticleExtractor(ArticleExtractor):\n",
    "\n",
    "    def _get_blog_articles(self, path):\n",
    "        soup = BeautifulSoup(self.html, 'html.parser')\n",
    "\n",
    "        def query(tag):\n",
    "            if not tag.name == 'article':\n",
    "                return False\n",
    "            if not 'class' in tag.attrs:\n",
    "                return False\n",
    "            if not 'type-post' in tag['class']:\n",
    "                return False\n",
    "            if 'e-loop-item' in tag['class']:\n",
    "                return False\n",
    "            return True\n",
    "        \n",
    "        articles = soup.find_all(query)\n",
    "\n",
    "        if len(articles) == 1:\n",
    "            self.blog_articles.append({'path':path, 'article':str(articles[0])})\n",
    "\n",
    "folder       = 'www.nomadasaurus.com'\n",
    "html_files   = glob.glob(f'/Volumes/2024 ML/data/0_raw_blog_scrape/www.nomadicmatt.com/travel-blogs/**/index.html')\n",
    "article_extractor = nomadicmattArticleExtractor(html_files)\n",
    "article_extractor.save(f'/Volumes/2024 ML/data/1_extracted_blogs/{folder}.json')"
   ]
  },
  {
   "cell_type": "markdown",
   "id": "57637d05-2868-42a4-aae5-6f675694a64a",
   "metadata": {},
   "source": [
    "### saltinourhair.com"
   ]
  },
  {
   "cell_type": "code",
   "execution_count": 42,
   "id": "3e11862a-5586-4b85-a6ac-8ea4b55836bf",
   "metadata": {},
   "outputs": [
    {
     "data": {
      "application/vnd.jupyter.widget-view+json": {
       "model_id": "50ce21da8ff14d62aceee9e6eb1e9877",
       "version_major": 2,
       "version_minor": 0
      },
      "text/plain": [
       "  0%|          | 0/597 [00:00<?, ?it/s]"
      ]
     },
     "metadata": {},
     "output_type": "display_data"
    },
    {
     "name": "stdout",
     "output_type": "stream",
     "text": [
      "482 articles found\n",
      "saved at: /Volumes/2024 ML/data/1_extracted_blogs/www.saltinourhair.com.json\n"
     ]
    }
   ],
   "source": [
    "class saltinourhairArticleExtractor(ArticleExtractor):\n",
    "\n",
    "    def _get_blog_articles(self, path):\n",
    "        soup = BeautifulSoup(self.html, 'html.parser')\n",
    "\n",
    "        def query(tag):\n",
    "            if not tag.name == 'div':\n",
    "                return False\n",
    "            if not 'class' in tag.attrs:\n",
    "                return False\n",
    "            if not 'blog-content' in tag['class']:\n",
    "                return False\n",
    "            if 'e-loop-item' in tag['class']:\n",
    "                return False\n",
    "            return True\n",
    "        \n",
    "        articles = soup.find_all(query)\n",
    "\n",
    "        if len(articles) == 1:\n",
    "            self.blog_articles.append({'path':path, 'article':str(articles[0])})\n",
    "\n",
    "\n",
    "folder       = 'www.saltinourhair.com'\n",
    "html_files   = glob.glob(f'/Volumes/2024 ML/data/0_raw_blog_scrape/{folder}/**/**/index.html')\n",
    "article_extractor = saltinourhairArticleExtractor(html_files)\n",
    "article_extractor.save(f'/Volumes/2024 ML/data/1_extracted_blogs/{folder}.json')"
   ]
  },
  {
   "cell_type": "markdown",
   "id": "8942b7e7-2f4e-4d4e-87eb-c9fb9a801e1e",
   "metadata": {},
   "source": [
    "### theblondeabroad.com"
   ]
  },
  {
   "cell_type": "code",
   "execution_count": 44,
   "id": "bd182f93-4b2e-4f4b-8501-88ff7c70bdb4",
   "metadata": {},
   "outputs": [
    {
     "data": {
      "application/vnd.jupyter.widget-view+json": {
       "model_id": "f40e3c04b53d42b38e5a28c68ea4e3fb",
       "version_major": 2,
       "version_minor": 0
      },
      "text/plain": [
       "  0%|          | 0/1556 [00:00<?, ?it/s]"
      ]
     },
     "metadata": {},
     "output_type": "display_data"
    },
    {
     "name": "stdout",
     "output_type": "stream",
     "text": [
      "1401 articles found\n",
      "saved at: /Volumes/2024 ML/data/1_extracted_blogs/www.theblondeabroad.com.json\n"
     ]
    }
   ],
   "source": [
    "class theblondeabroadArticleExtractor(ArticleExtractor):\n",
    "\n",
    "    def _get_blog_articles(self, path):\n",
    "        soup = BeautifulSoup(self.html, 'html.parser')\n",
    "\n",
    "        def query(tag):\n",
    "            if not tag.name == 'article':\n",
    "                return False\n",
    "            if not 'class' in tag.attrs:\n",
    "                return False\n",
    "            if not 'type-post' in tag['class']:\n",
    "                return False\n",
    "            if 'e-loop-item' in tag['class']:\n",
    "                return False\n",
    "            return True\n",
    "        \n",
    "        articles = soup.find_all(query)\n",
    "\n",
    "        if len(articles) == 1:\n",
    "            self.blog_articles.append({'path':path, 'article':str(articles[0])})\n",
    "\n",
    "\n",
    "folder       = 'www.theblondeabroad.com'\n",
    "html_files   = glob.glob(f'/Volumes/2024 ML/data/0_raw_blog_scrape/{folder}/**/index.html')\n",
    "article_extractor = theblondeabroadArticleExtractor(html_files)\n",
    "article_extractor.save(f'/Volumes/2024 ML/data/1_extracted_blogs/{folder}.json')"
   ]
  },
  {
   "cell_type": "markdown",
   "id": "c2e4f2b8-c1cd-4a8b-9612-4311483ee105",
   "metadata": {},
   "source": [
    "### thebrokebackpacker.com"
   ]
  },
  {
   "cell_type": "code",
   "execution_count": 48,
   "id": "fe0d5ca2-15a0-4fa5-9cd5-be822cfb80de",
   "metadata": {},
   "outputs": [
    {
     "data": {
      "application/vnd.jupyter.widget-view+json": {
       "model_id": "7bdc4b0ae68f4b6f815cc532045be132",
       "version_major": 2,
       "version_minor": 0
      },
      "text/plain": [
       "  0%|          | 0/4257 [00:00<?, ?it/s]"
      ]
     },
     "metadata": {},
     "output_type": "display_data"
    },
    {
     "name": "stdout",
     "output_type": "stream",
     "text": [
      "'utf-8' codec can't decode byte 0xff in position 0: invalid start byte\n",
      "'utf-8' codec can't decode byte 0x89 in position 0: invalid start byte\n",
      "4219 articles found\n",
      "saved at: /Volumes/2024 ML/data/1_extracted_blogs/www.thebrokebackpacker.com.json\n"
     ]
    }
   ],
   "source": [
    "class thebrokebackpackerArticleExtractor(ArticleExtractor):\n",
    "\n",
    "    def _get_blog_articles(self, path):\n",
    "        soup = BeautifulSoup(self.html, 'html.parser')\n",
    "\n",
    "        def query(tag):\n",
    "            if not tag.name == 'article':\n",
    "                return False\n",
    "            if not 'class' in tag.attrs:\n",
    "                return False\n",
    "            if not 'post-single' in tag['class']:\n",
    "                return False\n",
    "            if 'e-loop-item' in tag['class']:\n",
    "                return False\n",
    "            return True\n",
    "        \n",
    "        articles = soup.find_all(query)\n",
    "\n",
    "        if len(articles) == 1:\n",
    "            self.blog_articles.append({'path':path, 'article':str(articles[0])})\n",
    "\n",
    "\n",
    "folder       = 'www.thebrokebackpacker.com'\n",
    "html_files   = glob.glob(f'/Volumes/2024 ML/data/0_raw_blog_scrape/{folder}/**/index.html')\n",
    "article_extractor = thebrokebackpackerArticleExtractor(html_files)\n",
    "article_extractor.save(f'/Volumes/2024 ML/data/1_extracted_blogs/{folder}.json')"
   ]
  },
  {
   "cell_type": "markdown",
   "id": "3880f232-5b5d-4b7a-ab57-34fe60dbf9eb",
   "metadata": {},
   "source": [
    "### theviennablog.com"
   ]
  },
  {
   "cell_type": "code",
   "execution_count": 51,
   "id": "6bc40037-b96d-4210-bc69-a497bd41ba5b",
   "metadata": {
    "scrolled": true
   },
   "outputs": [
    {
     "data": {
      "application/vnd.jupyter.widget-view+json": {
       "model_id": "45683af440644c9280da5c3ba54ca1ec",
       "version_major": 2,
       "version_minor": 0
      },
      "text/plain": [
       "  0%|          | 0/763 [00:00<?, ?it/s]"
      ]
     },
     "metadata": {},
     "output_type": "display_data"
    },
    {
     "name": "stdout",
     "output_type": "stream",
     "text": [
      "'utf-8' codec can't decode byte 0xff in position 0: invalid start byte\n",
      "'utf-8' codec can't decode byte 0xff in position 0: invalid start byte\n",
      "'utf-8' codec can't decode byte 0xff in position 0: invalid start byte\n",
      "'utf-8' codec can't decode byte 0xf8 in position 4: invalid start byte\n",
      "'utf-8' codec can't decode byte 0xc0 in position 4: invalid start byte\n",
      "'utf-8' codec can't decode byte 0xff in position 0: invalid start byte\n",
      "'utf-8' codec can't decode byte 0xff in position 0: invalid start byte\n",
      "'utf-8' codec can't decode byte 0xd8 in position 4: invalid continuation byte\n",
      "'utf-8' codec can't decode byte 0xd2 in position 5: invalid continuation byte\n",
      "'utf-8' codec can't decode byte 0xff in position 0: invalid start byte\n",
      "'utf-8' codec can't decode byte 0xff in position 0: invalid start byte\n",
      "'utf-8' codec can't decode byte 0xff in position 0: invalid start byte\n",
      "'utf-8' codec can't decode byte 0xff in position 0: invalid start byte\n",
      "'utf-8' codec can't decode byte 0xff in position 0: invalid start byte\n",
      "'utf-8' codec can't decode byte 0xff in position 0: invalid start byte\n",
      "'utf-8' codec can't decode byte 0xff in position 0: invalid start byte\n",
      "'utf-8' codec can't decode byte 0xff in position 0: invalid start byte\n",
      "'utf-8' codec can't decode byte 0xff in position 0: invalid start byte\n",
      "'utf-8' codec can't decode byte 0xff in position 0: invalid start byte\n",
      "'utf-8' codec can't decode byte 0xff in position 0: invalid start byte\n",
      "'utf-8' codec can't decode byte 0xff in position 0: invalid start byte\n",
      "'utf-8' codec can't decode byte 0xee in position 5: invalid continuation byte\n",
      "732 articles found\n",
      "saved at: /Volumes/2024 ML/data/1_extracted_blogs/www.theviennablog.com.json\n"
     ]
    }
   ],
   "source": [
    "class theviennablogArticleExtractor(ArticleExtractor):\n",
    "\n",
    "    def _get_blog_articles(self, path):\n",
    "        soup = BeautifulSoup(self.html, 'html.parser')\n",
    "\n",
    "        def query(tag):\n",
    "            if not tag.name == 'article':\n",
    "                return False\n",
    "            if not 'class' in tag.attrs:\n",
    "                return False\n",
    "            if not 'type-post' in tag['class']:\n",
    "                return False\n",
    "            if 'e-loop-item' in tag['class']:\n",
    "                return False\n",
    "            return True\n",
    "        \n",
    "        articles = soup.find_all(query)\n",
    "\n",
    "        if len(articles) == 1:\n",
    "            self.blog_articles.append({'path':path, 'article':str(articles[0])})\n",
    "\n",
    "\n",
    "folder       = 'www.theviennablog.com'\n",
    "html_files   = glob.glob(f'/Volumes/2024 ML/data/0_raw_blog_scrape/{folder}/**/index.html')\n",
    "article_extractor = theviennablogArticleExtractor(html_files)\n",
    "article_extractor.save(f'/Volumes/2024 ML/data/1_extracted_blogs/{folder}.json')"
   ]
  },
  {
   "cell_type": "markdown",
   "id": "24a2a64c-c43f-4941-8ab1-8f288462dfa0",
   "metadata": {},
   "source": [
    "### wanderingearl.com"
   ]
  },
  {
   "cell_type": "code",
   "execution_count": 53,
   "id": "b19678e0-e78c-4fff-b428-250c9c47ad2a",
   "metadata": {},
   "outputs": [
    {
     "data": {
      "application/vnd.jupyter.widget-view+json": {
       "model_id": "f945fde14dd44cb8936135a142c6c149",
       "version_major": 2,
       "version_minor": 0
      },
      "text/plain": [
       "  0%|          | 0/531 [00:00<?, ?it/s]"
      ]
     },
     "metadata": {},
     "output_type": "display_data"
    },
    {
     "name": "stdout",
     "output_type": "stream",
     "text": [
      "511 articles found\n",
      "saved at: /Volumes/2024 ML/data/1_extracted_blogs/www.wanderingearl.com.json\n"
     ]
    }
   ],
   "source": [
    "class wanderingearlArticleExtractor(ArticleExtractor):\n",
    "\n",
    "    def _get_blog_articles(self, path):\n",
    "        soup = BeautifulSoup(self.html, 'html.parser')\n",
    "\n",
    "        def query(tag):\n",
    "            if not tag.name == 'article':\n",
    "                return False\n",
    "            if not 'class' in tag.attrs:\n",
    "                return False\n",
    "            if not 'type-post' in tag['class']:\n",
    "                return False\n",
    "            if 'e-loop-item' in tag['class']:\n",
    "                return False\n",
    "            return True\n",
    "        \n",
    "        articles = soup.find_all(query)\n",
    "\n",
    "        if len(articles) == 1:\n",
    "            self.blog_articles.append({'path':path, 'article':str(articles[0])})\n",
    "\n",
    "\n",
    "folder       = 'www.wanderingearl.com'\n",
    "html_files   = glob.glob(f'/Volumes/2024 ML/data/0_raw_blog_scrape/{folder}/**/index.html')\n",
    "article_extractor = wanderingearlArticleExtractor(html_files)\n",
    "article_extractor.save(f'/Volumes/2024 ML/data/1_extracted_blogs/{folder}.json')"
   ]
  },
  {
   "cell_type": "markdown",
   "id": "4e207455-b68e-4c28-b5de-4618a20f235c",
   "metadata": {},
   "source": [
    "### wanderingwelshgirl.com"
   ]
  },
  {
   "cell_type": "code",
   "execution_count": 55,
   "id": "fcb41d93-fa03-4b08-ab55-692346b4cb4a",
   "metadata": {},
   "outputs": [
    {
     "data": {
      "application/vnd.jupyter.widget-view+json": {
       "model_id": "d91cad7bb08a41fd847c66f58a67b896",
       "version_major": 2,
       "version_minor": 0
      },
      "text/plain": [
       "  0%|          | 0/187 [00:00<?, ?it/s]"
      ]
     },
     "metadata": {},
     "output_type": "display_data"
    },
    {
     "name": "stdout",
     "output_type": "stream",
     "text": [
      "176 articles found\n",
      "saved at: /Volumes/2024 ML/data/1_extracted_blogs/www.wanderingwelshgirl.com.json\n"
     ]
    }
   ],
   "source": [
    "class wanderingwelshgirlArticleExtractor(ArticleExtractor):\n",
    "\n",
    "    def _get_blog_articles(self, path):\n",
    "        soup = BeautifulSoup(self.html, 'html.parser')\n",
    "\n",
    "        def query(tag):\n",
    "            if not tag.name == 'article':\n",
    "                return False\n",
    "            if not 'class' in tag.attrs:\n",
    "                return False\n",
    "            if not 'type-post' in tag['class']:\n",
    "                return False\n",
    "            if 'e-loop-item' in tag['class']:\n",
    "                return False\n",
    "            return True\n",
    "        \n",
    "        articles = soup.find_all(query)\n",
    "\n",
    "        if len(articles) == 1:\n",
    "            self.blog_articles.append({'path':path, 'article':str(articles[0])})\n",
    "\n",
    "\n",
    "folder       = 'www.wanderingwelshgirl.com'\n",
    "html_files   = glob.glob(f'/Volumes/2024 ML/data/0_raw_blog_scrape/{folder}/**/index.html')\n",
    "article_extractor = wanderingwelshgirlArticleExtractor(html_files)\n",
    "article_extractor.save(f'/Volumes/2024 ML/data/1_extracted_blogs/{folder}.json')"
   ]
  },
  {
   "cell_type": "markdown",
   "id": "b7f3b308-6fc0-451b-9a7b-1ca544e6b4c8",
   "metadata": {},
   "source": [
    "### weseektravel.com"
   ]
  },
  {
   "cell_type": "code",
   "execution_count": 56,
   "id": "73d77fba-cfcc-4d89-8fec-e78c3417ad96",
   "metadata": {},
   "outputs": [
    {
     "data": {
      "application/vnd.jupyter.widget-view+json": {
       "model_id": "6a64af9853fb43ce86d6e536f6d0f723",
       "version_major": 2,
       "version_minor": 0
      },
      "text/plain": [
       "  0%|          | 0/741 [00:00<?, ?it/s]"
      ]
     },
     "metadata": {},
     "output_type": "display_data"
    },
    {
     "name": "stdout",
     "output_type": "stream",
     "text": [
      "725 articles found\n"
     ]
    }
   ],
   "source": [
    "class weseektravelArticleExtractor(ArticleExtractor):\n",
    "\n",
    "    def _get_blog_articles(self, path):\n",
    "        soup = BeautifulSoup(self.html, 'html.parser')\n",
    "\n",
    "        def query(tag):\n",
    "            if not tag.name == 'article':\n",
    "                return False\n",
    "            if not 'class' in tag.attrs:\n",
    "                return False\n",
    "            if not 'type-post' in tag['class']:\n",
    "                return False\n",
    "            if 'e-loop-item' in tag['class']:\n",
    "                return False\n",
    "            return True\n",
    "        \n",
    "        articles = soup.find_all(query)\n",
    "\n",
    "        if len(articles) == 1:\n",
    "            self.blog_articles.append({'path':path, 'article':str(articles[0])})\n",
    "\n",
    "\n",
    "folder       = 'www.weseektravel.com'\n",
    "html_files   = glob.glob(f'/Volumes/2024 ML/data/0_raw_blog_scrape/{folder}/**/index.html')\n",
    "article_extractor = weseektravelArticleExtractor(html_files)\n",
    "# article_extractor.save(f'/Volumes/2024 ML/data/1_extracted_blogs/{folder}.json')"
   ]
  }
 ],
 "metadata": {
  "kernelspec": {
   "display_name": "Python 3 (ipykernel)",
   "language": "python",
   "name": "python3"
  },
  "language_info": {
   "codemirror_mode": {
    "name": "ipython",
    "version": 3
   },
   "file_extension": ".py",
   "mimetype": "text/x-python",
   "name": "python",
   "nbconvert_exporter": "python",
   "pygments_lexer": "ipython3",
   "version": "3.12.0"
  }
 },
 "nbformat": 4,
 "nbformat_minor": 5
}
