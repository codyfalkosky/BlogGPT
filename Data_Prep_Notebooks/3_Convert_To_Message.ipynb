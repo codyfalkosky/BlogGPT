{
 "cells": [
  {
   "cell_type": "code",
   "execution_count": 1,
   "id": "5af7551f-9d74-405e-9e1f-1390a211e512",
   "metadata": {},
   "outputs": [],
   "source": [
    "import glob\n",
    "import json\n",
    "from tqdm.notebook import tqdm"
   ]
  },
  {
   "cell_type": "code",
   "execution_count": 61,
   "id": "d55ea9d0-ec0b-46eb-8a81-5b3e1aefd912",
   "metadata": {},
   "outputs": [],
   "source": [
    "# gather all json files\n",
    "files = glob.glob('/Users/codyfalkosky/Desktop/2_cleaned_data/*')"
   ]
  },
  {
   "cell_type": "code",
   "execution_count": 3,
   "id": "7e283e0c-eced-49f4-bb1f-6a4a4970471d",
   "metadata": {},
   "outputs": [
    {
     "name": "stderr",
     "output_type": "stream",
     "text": [
      "Special tokens have been added in the vocabulary, make sure the associated word embeddings are fine-tuned or trained.\n"
     ]
    }
   ],
   "source": [
    "from transformers import AutoTokenizer\n",
    "\n",
    "token = ''\n",
    "tokenizer = AutoTokenizer.from_pretrained(\"meta-llama/Meta-Llama-3-8B-Instruct\")"
   ]
  },
  {
   "cell_type": "code",
   "execution_count": 5,
   "id": "33e7ab64-3130-498b-8b60-6cd7efcde204",
   "metadata": {},
   "outputs": [],
   "source": [
    "class ToMessage:\n",
    "    def __init__(self, data, heading_message_format='by heading'):\n",
    "        self.data = data\n",
    "        self.heading_message_format = heading_message_format\n",
    "\n",
    "        # init\n",
    "        self.title = None\n",
    "        self.headings = []\n",
    "        self.title_message = []\n",
    "        self.heading_messages = []\n",
    "        self.blog = ''\n",
    "\n",
    "        # extract\n",
    "        self._get_title_and_headings()\n",
    "\n",
    "        # compile messages\n",
    "        self._generate_messages()\n",
    "\n",
    "    def _get_title_and_headings(self):\n",
    "        for example in self.data:\n",
    "            if {'title', 'headings'} <= example.keys():\n",
    "                self.title = example['title']\n",
    "            if {'heading', 'content'} <= example.keys():\n",
    "                self.headings.append(example['heading'])\n",
    "                \n",
    "    def _generate_title_message(self):\n",
    "        m = [\n",
    "            {\"role\": \"system\", \"content\": \"You are a helpful AI assistant for writing blog headings\"},\n",
    "            {\"role\": \"user\", \"content\": f'''Generate headings for a blog titled \"{self.title}\"'''},\n",
    "            {\"role\": \"assistant\", \"content\": f\"{self.headings}\"},\n",
    "        ]\n",
    "\n",
    "        self.title_message.append({'messages':m, 'label':'title'})\n",
    "\n",
    "    def _generate_heading_message(self, example):\n",
    "        m = [\n",
    "            {\"role\": \"system\", \"content\": \"You are a helpful AI assistant for writing blog content\"},\n",
    "            {\"role\": \"user\", \"content\": f'''Given a blog with title: \"{self.title}\", and headings: \"{self.headings}\", generate the content that belongs to the specific heading: \"{example['heading']}.\"'''},\n",
    "            {\"role\": \"assistant\", \"content\": example['content']},\n",
    "        ]\n",
    "\n",
    "        self.heading_messages.append({'messages':m, 'label':'heading'})\n",
    "\n",
    "    def _generate_blog_message(self):\n",
    "        m = [\n",
    "            {\"role\": \"system\", \"content\": \"You are a helpful AI assistant for writing entire blogs\"},\n",
    "            {\"role\": \"user\", \"content\": f'''Given a blog with title: \"{self.title}\", and headings: \"{self.headings}\", generate and write all content for the full blog.\"'''},\n",
    "            {\"role\": \"assistant\", \"content\": self.blog},\n",
    "        ]\n",
    "\n",
    "        self.heading_messages.append({'messages':m, 'label':'blog'})\n",
    "\n",
    "    def _generate_messages(self):\n",
    "        self._generate_title_message()\n",
    "\n",
    "        if self.heading_message_format == 'by heading':\n",
    "            for example in self.data:\n",
    "                if {'heading', 'content'} <= example.keys():\n",
    "                    self._generate_heading_message(example)\n",
    "\n",
    "        if self.heading_message_format == 'full blog':\n",
    "            # self.blog += self.title + '\\n\\n' # already in most headings\n",
    "            \n",
    "            for example in self.data:\n",
    "                if {'heading', 'content'} <= example.keys():\n",
    "                    self.blog += example['heading'] + '\\n'\n",
    "                    self.blog += example['content'] + '\\n\\n'\n",
    "\n",
    "            self.blog = self.blog.strip()\n",
    "            self._generate_blog_message()\n",
    "                    "
   ]
  },
  {
   "cell_type": "markdown",
   "id": "947b8f44-1141-47a0-9d26-e53cc12ec6e6",
   "metadata": {},
   "source": [
    "## Generate Messages"
   ]
  },
  {
   "cell_type": "code",
   "execution_count": 41,
   "id": "1add2999-c95d-4270-9531-8f3492554258",
   "metadata": {},
   "outputs": [
    {
     "name": "stderr",
     "output_type": "stream",
     "text": [
      "Special tokens have been added in the vocabulary, make sure the associated word embeddings are fine-tuned or trained.\n"
     ]
    }
   ],
   "source": [
    "from transformers import AutoTokenizer\n",
    "\n",
    "token = ''\n",
    "tokenizer = AutoTokenizer.from_pretrained(\"meta-llama/Meta-Llama-3-8B-Instruct\")"
   ]
  },
  {
   "cell_type": "code",
   "execution_count": 42,
   "id": "95b9b1f6-6f19-4d44-b281-762801d68484",
   "metadata": {},
   "outputs": [],
   "source": [
    "## Compile all messages\n",
    "\n",
    "title_messages = []\n",
    "blog_messages  = []"
   ]
  },
  {
   "cell_type": "code",
   "execution_count": 43,
   "id": "bd3572fb-8ec9-47de-9638-07492f7c5066",
   "metadata": {},
   "outputs": [
    {
     "data": {
      "application/vnd.jupyter.widget-view+json": {
       "model_id": "21ae8877470340ecb1ebbaafd4d438e4",
       "version_major": 2,
       "version_minor": 0
      },
      "text/plain": [
       "  0%|          | 0/24 [00:00<?, ?it/s]"
      ]
     },
     "metadata": {},
     "output_type": "display_data"
    }
   ],
   "source": [
    "for path in tqdm(files):\n",
    "    \n",
    "    with open(path, 'r') as file:\n",
    "        DATA = json.load(file)\n",
    "\n",
    "    for data in DATA:\n",
    "        # format\n",
    "        to_message = ToMessage(data, heading_message_format='full blog')\n",
    "\n",
    "        # add to main list\n",
    "        title_messages.extend(to_message.title_message)\n",
    "\n",
    "        # check message length\n",
    "        messages = to_message.heading_messages\n",
    "        tokens = tokenizer.apply_chat_template(messages[0]['messages'])\n",
    "        if len(tokens) < 8192:\n",
    "            blog_messages.extend(to_message.heading_messages)"
   ]
  },
  {
   "cell_type": "code",
   "execution_count": 24,
   "id": "f8166e31-ed18-4651-8e60-b501726e422e",
   "metadata": {},
   "outputs": [],
   "source": [
    "with open('/Users/codyfalkosky/Desktop/3_message_format/full_blog_matching_only_message_labeled_8192/title_messages_labeled.json', 'w') as file:\n",
    "    json.dump(title_messages, file)"
   ]
  },
  {
   "cell_type": "code",
   "execution_count": 25,
   "id": "c5256230-eeee-4083-be75-522d1aef4e25",
   "metadata": {},
   "outputs": [],
   "source": [
    "with open('/Users/codyfalkosky/Desktop/3_message_format/full_blog_matching_only_message_labeled_8192/blog_messages_labeled.json', 'w') as file:\n",
    "    json.dump(blog_messages, file)"
   ]
  },
  {
   "cell_type": "markdown",
   "id": "89d8b926-dc9e-4fcb-86ae-7f530a3f192c",
   "metadata": {},
   "source": [
    "## Inspect"
   ]
  },
  {
   "cell_type": "code",
   "execution_count": 38,
   "id": "40541947-b889-43c9-8903-b907ab4486fe",
   "metadata": {},
   "outputs": [],
   "source": [
    "path = '/Users/codyfalkosky/Desktop/3_message_format/full_blog_matching_only/blog_messages.json'\n",
    "\n",
    "with open(path, 'r') as file:\n",
    "    for_inspect = json.load(file)"
   ]
  },
  {
   "cell_type": "code",
   "execution_count": 45,
   "id": "86fedf6d-bc8c-4903-aaca-c1961f0412d1",
   "metadata": {},
   "outputs": [
    {
     "name": "stdout",
     "output_type": "stream",
     "text": [
      "{'role': 'system', 'content': 'You are a helpful AI assistant for writing entire blogs'} \n",
      "\n",
      "{'role': 'user', 'content': 'Given a blog with title: \"18 Days Beautiful Remote Part of Mexico\", and headings: \"[\\'<h2>18 Days in a Super Beautiful, Remote Part of Mexico</h2>\\', \\'<h3>The Routine</h3>\\', \\'<h3>The Reality</h3>\\', \\'<h3>The Solution</h3>\\']\", generate and write all content for the full blog.\"'} \n",
      "\n",
      "<h2>18 Days in a Super Beautiful, Remote Part of Mexico</h2>\n",
      "Last month, I spent 18 days in a secluded, remote part of Mexico. A friend and I were covering another friend's housesitting assignment while he and his wife were away. The house we took care of was quite isolated. On one side was an endless, empty white sand beach and gorgeous water for as far as you could see. On the other side was an immense span of jungle stretching all the way to Alaska, or so it seemed. Nothing else at all for the most part. A potholed dirt road was the only way in and out. The closest town was 25 kms away. When we arrived in the area, my first thought was, 'okay, this should be nice'. Of course, at that moment, I had no idea just how spectacular the experience of being surrounded by nature for the first time in a while would actually be. Mighty, mighty spectacular.\n",
      "\n",
      "<h3>The Routine</h3>\n",
      "Quickly, I fell into a routine each day that involved... - Watching the sunrise from my bed - Walking the dogs on the beach twice per day - Working from a table that looked straight out at the water - Going for a swim in the sea - Hanging out on the beach - Playing with the dogs outside - Watching the sunset from the roof top terrace I was always barefoot, barely wore a shirt, was always surrounded by natural light and I ate a great deal of fresh fruits and vegetables every single day. So much dragonfruit! Again, for 18 days straight. It was a beautiful thing I tell you. Just feeling the nature every minute of every day, in front of me, on me, all around. Regardless of my normal lifestyle, when I suddenly find myself living simply, surrounded by the fresh air, the swaying trees and the lapping waves, with my hair full of sand...my body and mind get comfortable, extremely comfortable, remarkably quickly. Strong and healthy, clearer and calmer, all systems working efficiently. Despite the long days of getting up at sunrise and going to sleep at midnight, I don't feel tired at all. No amount of meditation could match the near instant zen I receive from such surroundings.\n",
      "\n",
      "<h3>The Reality</h3>\n",
      "We spend so much time in cities and towns, where we might get a chance to stroll through a park every now and then, walk along a beach for a few minutes every other Saturday or look up at the sky for a short peek whenever we remember to do so. Few of us live near a remote part of Mexico or anywhere else with such an abundance of nature. And when we do duck down to Mexico for a holiday, we hop into our Cancun Airport Transportation, unwind at our hotel and before we know it, we're back on a flight going home. For most of our waking hours, we are surrounded by buildings and vehicles and roads and signs and noise and lights and people doing all sorts of things, so much so that the nature around us, and the positive effects that nature can provide us, is so easily drowned out, turned into something we hardly notice. Why do we allow this to happen when we know the benefits of nature? When we know it can so easily give us a boost of healthiness and happiness? Sure, I spent 18 days in nature. Sure, I'm back in the city now and about to head off to more cities and more destinations where nature is once again pushed to the background...it's a part of life. It's difficult to survive by just wandering around the jungle or hanging out on a secluded island. We all need to work, we all need friends and family, we all need or want other things too, things to make life easier and more enjoyable. I accept that. And I see nothing wrong with the cities and towns and the conveniences and aspects of modern life. They certainly add tremendous value to our short time that we have on this planet and without them, I certainly wouldn't have had the life I've had so far. (Besides, I wasn't sleeping outside on the sand while in the middle of nowhere. I was staying in a nice house in this remote location, but everything I did involved me interacting with the nature around me.)\n",
      "\n",
      "<h3>The Solution</h3>\n",
      "But in all seriousness, I don't want to ignore the strong pull, the intense craving for nature that is clearly within. That feeling I get when I kick off my shoes - in a remote part of Mexico or any similar location - stare out at the horizon beyond the turquoise sea, collect the salt and sand and dirt on my skin, relax in a warm breeze, admire the soaring hawks and fill my lungs with the freshest, most invigorating of air... It's too beautiful, too naturally therapeutic to ignore. No, no, no...I'm not saying we should all run off to a deserted atoll, start a commune and live out the rest of our days. Nor should we bolt into the jungle with just a toothbrush and a machete. But when we're traveling, for example, we can seek out places that allow us to fully immerse ourselves in the forest or mountain or lake or ocean experience without being surrounded by noise and lights and structures and busy-ness. A couple of examples for me are my friend Codrin's cottage in remote Romania and some of the less visited islands of the Philippines. When we are at home, we can put in an extra effort to not only find nature near us, but to be present while amidst it, to fully embrace what it has to offer us instead of just passing through without paying much attention. It pays tremendously to do so, we all know that. Time to walk down to the beach here in Playa del Carmen. Not quite the same as the above but I'll find a quiet spot nonetheless to once again feel the breeze, the sand, the sun and the sea as if there's nothing else around. Have you been immersed in nature lately? Any experiences to share? Is it something you crave every now and then?\n"
     ]
    }
   ],
   "source": [
    "print(for_inspect[0][0], '\\n')\n",
    "print(for_inspect[0][1], '\\n')\n",
    "print(for_inspect[0][2]['content'])"
   ]
  },
  {
   "cell_type": "code",
   "execution_count": null,
   "id": "ac38f70a-4564-48e7-a4dd-9e5c14c48ace",
   "metadata": {},
   "outputs": [],
   "source": []
  }
 ],
 "metadata": {
  "kernelspec": {
   "display_name": "Python 3 (ipykernel)",
   "language": "python",
   "name": "python3"
  },
  "language_info": {
   "codemirror_mode": {
    "name": "ipython",
    "version": 3
   },
   "file_extension": ".py",
   "mimetype": "text/x-python",
   "name": "python",
   "nbconvert_exporter": "python",
   "pygments_lexer": "ipython3",
   "version": "3.12.0"
  }
 },
 "nbformat": 4,
 "nbformat_minor": 5
}
