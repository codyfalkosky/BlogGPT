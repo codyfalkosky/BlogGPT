{
 "cells": [
  {
   "cell_type": "markdown",
   "id": "8fe6bea9-9c1d-4481-9f5d-da4cef9edeb9",
   "metadata": {},
   "source": [
    "## SFTTrainer Subclassing\n",
    "\n",
    "What if you don't want to evaluate on the entire evaluation dataset, but instead a sample of size `eval_sample_size`?  Just subclass!"
   ]
  },
  {
   "cell_type": "code",
   "execution_count": null,
   "id": "59085895-bdb1-4542-a90e-fa6809f3b02a",
   "metadata": {},
   "outputs": [],
   "source": [
    "import random\n",
    "from trl import SFTTrainer\n",
    "\n",
    "\n",
    "class SFTTrainerEvalSampling(SFTTrainer):\n",
    "    def __init__(self, *args, eval_sample_size=16, **kwargs):\n",
    "        super().__init__(*args, **kwargs)\n",
    "        self.eval_sample_size = eval_sample_size\n",
    "\n",
    "    def get_eval_dataloader(self, eval_dataset=None):\n",
    "        'Samples the evaluation dataset and returns a subset of size eval_sample_size.'\n",
    "        if eval_dataset is None:\n",
    "            eval_dataset = self.eval_dataset\n",
    "        idxs = random.sample(range(len(eval_dataset)), self.eval_sample_size)\n",
    "        eval_subset = eval_dataset.select(idxs)  # Select subset\n",
    "        return super().get_eval_dataloader(eval_subset)"
   ]
  },
  {
   "cell_type": "markdown",
   "id": "04ce0714-4dba-439c-9433-4d75ffd9a01f",
   "metadata": {},
   "source": [
    "Simply wrap the `SFTTrainer` class in a new class `SFTTrainerEvalSampling` and overwrite the `get_eval_dataloader` function of the  `SFTTrainer` class so that when it is called, it passes a sample of the eval dataset to the eval dataloader rather than entire eval dataset.\n",
    "\n",
    "Then call the `SFTTrainerEvalSampling` just like you would the `SFTTrainer` class, remembering to add the additional argument for `eval_sample_size`."
   ]
  },
  {
   "cell_type": "code",
   "execution_count": null,
   "id": "0018c4b1-93e1-4210-a900-6dc30504abb9",
   "metadata": {},
   "outputs": [],
   "source": [
    "# example of calling SFTTrainerEvalSampling\n",
    "\n",
    "trainer = SFTTrainerEvalSampling(\n",
    "    eval_sample_size = 16 # NEW PARAMETER ADDED !!!\n",
    "    model = model,\n",
    "    tokenizer = tokenizer,\n",
    "    train_dataset = dataset['train'],\n",
    "    eval_dataset = dataset['test'],\n",
    "    dataset_text_field = \"text\",\n",
    "    max_seq_length = max_seq_length,\n",
    "    dataset_num_proc = 2,\n",
    "    packing = True, # Can make training 5x faster for short sequences.\n",
    "    args = TrainingArguments(\n",
    "        per_device_train_batch_size = 2,\n",
    "        per_device_eval_batch_size = 2,\n",
    "        eval_strategy = 'steps',\n",
    "        eval_steps = 1,\n",
    "        gradient_accumulation_steps = 64,\n",
    "        eval_accumulation_steps = 16,\n",
    "        num_train_epochs = 3, # INCREASE FOR CONTINUED TRAINING\n",
    "        warmup_steps = 5,\n",
    "        max_steps = 500,\n",
    "        learning_rate = 2e-4,\n",
    "        fp16 = not is_bfloat16_supported(),\n",
    "        bf16 = is_bfloat16_supported(),\n",
    "        logging_steps = 1,\n",
    "        optim = \"adamw_8bit\",\n",
    "        weight_decay = 0.01,\n",
    "        lr_scheduler_type = \"linear\",\n",
    "        seed = 3407,\n",
    "        output_dir = '/content/drive/MyDrive/ML_Projects/Blog_Headings/Output_Dir',\n",
    "        save_strategy = 'steps',\n",
    "        save_steps = 25,\n",
    "        save_total_limit = 20,\n",
    "        load_best_model_at_end = True,\n",
    "        metric_for_best_model = 'eval_loss',\n",
    "        greater_is_better = False,\n",
    "    ),\n",
    ")"
   ]
  }
 ],
 "metadata": {
  "kernelspec": {
   "display_name": "Python 3 (ipykernel)",
   "language": "python",
   "name": "python3"
  },
  "language_info": {
   "codemirror_mode": {
    "name": "ipython",
    "version": 3
   },
   "file_extension": ".py",
   "mimetype": "text/x-python",
   "name": "python",
   "nbconvert_exporter": "python",
   "pygments_lexer": "ipython3",
   "version": "3.12.0"
  }
 },
 "nbformat": 4,
 "nbformat_minor": 5
}
